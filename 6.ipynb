{
 "cells": [
  {
   "cell_type": "code",
   "execution_count": 2,
   "id": "ad40f48e",
   "metadata": {},
   "outputs": [
    {
     "name": "stdout",
     "output_type": "stream",
     "text": [
      "[7, 14, 21, 28, 35, 42, 49, 56, 63, 70, 77, 84, 91, 98, 105, 112, 119, 126, 133, 140, 147, 154, 161, 168, 175, 182, 189, 196, 203, 210, 217, 224, 231, 238, 245, 252, 259, 266, 273, 280, 287, 294, 301, 308, 315, 322, 329, 336, 343, 350, 357, 364, 371, 378, 385, 392, 399, 406, 413, 420, 427, 434, 441, 448, 455, 462, 469, 476, 483, 490, 497, 504, 511, 518, 525, 532, 539, 546, 553, 560, 567, 574, 581, 588, 595, 602, 609, 616, 623, 630, 637, 644, 651, 658, 665, 672, 679, 686, 693, 700, 707, 714, 721, 728, 735, 742, 749, 756, 763, 770, 777, 784, 791, 798, 805, 812, 819, 826, 833, 840, 847, 854, 861, 868, 875, 882, 889, 896, 903, 910, 917, 924, 931, 938, 945, 952, 959, 966, 973, 980, 987, 994]\n"
     ]
    }
   ],
   "source": [
    "l=[i for i in range (1,1000) if i%7==0]\n",
    "print(l)"
   ]
  },
  {
   "cell_type": "code",
   "execution_count": 3,
   "id": "07873ed9",
   "metadata": {},
   "outputs": [
    {
     "name": "stdout",
     "output_type": "stream",
     "text": [
      "[3, 13, 23, 30, 31, 32, 33, 34, 35, 36, 37, 38, 39, 43, 53, 63, 73, 83, 93, 103, 113, 123, 130, 131, 132, 133, 134, 135, 136, 137, 138, 139, 143, 153, 163, 173, 183, 193, 203, 213, 223, 230, 231, 232, 233, 234, 235, 236, 237, 238, 239, 243, 253, 263, 273, 283, 293, 300, 301, 302, 303, 304, 305, 306, 307, 308, 309, 310, 311, 312, 313, 314, 315, 316, 317, 318, 319, 320, 321, 322, 323, 324, 325, 326, 327, 328, 329, 330, 331, 332, 333, 334, 335, 336, 337, 338, 339, 340, 341, 342, 343, 344, 345, 346, 347, 348, 349, 350, 351, 352, 353, 354, 355, 356, 357, 358, 359, 360, 361, 362, 363, 364, 365, 366, 367, 368, 369, 370, 371, 372, 373, 374, 375, 376, 377, 378, 379, 380, 381, 382, 383, 384, 385, 386, 387, 388, 389, 390, 391, 392, 393, 394, 395, 396, 397, 398, 399, 403, 413, 423, 430, 431, 432, 433, 434, 435, 436, 437, 438, 439, 443, 453, 463, 473, 483, 493, 503, 513, 523, 530, 531, 532, 533, 534, 535, 536, 537, 538, 539, 543, 553, 563, 573, 583, 593, 603, 613, 623, 630, 631, 632, 633, 634, 635, 636, 637, 638, 639, 643, 653, 663, 673, 683, 693, 703, 713, 723, 730, 731, 732, 733, 734, 735, 736, 737, 738, 739, 743, 753, 763, 773, 783, 793, 803, 813, 823, 830, 831, 832, 833, 834, 835, 836, 837, 838, 839, 843, 853, 863, 873, 883, 893, 903, 913, 923, 930, 931, 932, 933, 934, 935, 936, 937, 938, 939, 943, 953, 963, 973, 983, 993]\n"
     ]
    }
   ],
   "source": [
    "l=[i for i in range (1,1000) if '3' in str(i)]\n",
    "print(l)"
   ]
  },
  {
   "cell_type": "code",
   "execution_count": 81,
   "id": "1c0b494c",
   "metadata": {},
   "outputs": [
    {
     "name": "stdout",
     "output_type": "stream",
     "text": [
      "3\n",
      "Number of spaces: 5\n"
     ]
    }
   ],
   "source": [
    "s=\"Mahesh Yedoti From Lpu\"\n",
    "l=[i for i in s if i==' ']\n",
    "\n",
    "print(len(l))\n",
    "s = \"Mahesh is learning Python now!! 123\"\n",
    "l= sum([1 for ch in s if not ch.isalnum() and ch == \" \"])\n",
    "print(\"Number of spaces:\", l)\n"
   ]
  },
  {
   "cell_type": "code",
   "execution_count": 29,
   "id": "22a4e130",
   "metadata": {},
   "outputs": [
    {
     "name": "stdout",
     "output_type": "stream",
     "text": [
      "MaheshYedotiFromLpu\n",
      "['M', 'h', 's', 'h', ' ', 'Y', 'd', 't', ' ', 'F', 'r', 'm', ' ', 'L', 'p']\n"
     ]
    }
   ],
   "source": [
    "s=\"Mahesh Yedoti From Lpu\"\n",
    "a=''.join(s.split())\n",
    "print(a)\n",
    "l=[i for i in s if i not in ['a','e','i','o','u'] and ['A','E','I','O','U']]\n",
    "print(l)\n"
   ]
  },
  {
   "cell_type": "code",
   "execution_count": 39,
   "id": "f74b4023",
   "metadata": {},
   "outputs": [
    {
     "name": "stdout",
     "output_type": "stream",
     "text": [
      "[(0, 'Mahesh'), (1, 'Yedoti'), (2, 'From'), (3, 'Lpu')]\n",
      "[(0, 'Mahesh'), (1, 'Yedoti'), (2, 'From'), (3, 'Lpu')]\n"
     ]
    }
   ],
   "source": [
    "l=[\"Mahesh\", \"Yedoti\", \"From\", \"Lpu\"]\n",
    "\n",
    "ans = [(i, val) for i, val in enumerate(l)]\n",
    "ans2 = [(i,l[i]) for i in range(0,len(l))]\n",
    "print(ans)\n",
    "print(ans2)\n"
   ]
  },
  {
   "cell_type": "code",
   "execution_count": 36,
   "id": "b4d71b86",
   "metadata": {},
   "outputs": [
    {
     "name": "stdout",
     "output_type": "stream",
     "text": [
      "[2, 3]\n"
     ]
    }
   ],
   "source": [
    "a=[1,2,3,4]\n",
    "b=[2,3,6,7]\n",
    "l=[i for i in a if i in b]\n",
    "print(l)"
   ]
  },
  {
   "cell_type": "code",
   "execution_count": null,
   "id": "6a4067a0",
   "metadata": {},
   "outputs": [
    {
     "name": "stdout",
     "output_type": "stream",
     "text": [
      "['My', 'name', 'is', 'Mahesh', 'Yedoti', '18', 'from', '2076', 'my', 'bath', '2024']\n",
      "18\n",
      "2076\n",
      "2024\n",
      "['18', '2076', '2024']\n"
     ]
    }
   ],
   "source": [
    "l=\"My name is Mahesh Yedoti 18 from 2076 my bath 2024\"\n",
    "a=l.split()\n",
    "t=[i for i in a if i.isdigit()]\n",
    "print(t)\n"
   ]
  },
  {
   "cell_type": "code",
   "execution_count": 63,
   "id": "83dfb678",
   "metadata": {},
   "outputs": [
    {
     "name": "stdout",
     "output_type": "stream",
     "text": [
      "['odd', 'even', 'odd', 'even', 'odd', 'even', 'odd', 'even', 'odd', 'even', 'odd', 'even', 'odd', 'even', 'odd', 'even', 'odd', 'even', 'odd']\n"
     ]
    }
   ],
   "source": [
    "l = [\"odd\" if i % 2 != 0 else \"even\" for i in range(1,20)]\n",
    "print(l)\n"
   ]
  },
  {
   "cell_type": "code",
   "execution_count": 69,
   "id": "0254609b",
   "metadata": {},
   "outputs": [
    {
     "name": "stdout",
     "output_type": "stream",
     "text": [
      "[(2, 2), (3, 3), (4, 4), (5, 5), (6, 6)]\n",
      "[(2, 2), (3, 3), (4, 4), (5, 5), (6, 6)]\n"
     ]
    }
   ],
   "source": [
    "a=[1,2,3,4,5,6,7,8,9,10]\n",
    "b=[2,3,4,5,6]\n",
    "l=[]\n",
    "for i in range(len(a)):\n",
    "    if a[i] in b:\n",
    "        l.append((a[i],a[i]))\n",
    "print(l)\n",
    "\n",
    "ans=[(i,i) for i in a if i in b]\n",
    "print(ans)"
   ]
  },
  {
   "cell_type": "code",
   "execution_count": null,
   "id": "e206dc75",
   "metadata": {},
   "outputs": [
    {
     "name": "stdout",
     "output_type": "stream",
     "text": [
      "['my', 'is', 'i', 'am', 'lpu']\n"
     ]
    }
   ],
   "source": [
    "l=\"my name is mahesh i am from lpu\"\n",
    "\n",
    "temp=[i for i in l.split()]\n",
    "ans=[i for i in temp if len(i)<4]\n",
    "print(ans)\n",
    "\n"
   ]
  },
  {
   "cell_type": "code",
   "execution_count": 80,
   "id": "8cc18e22",
   "metadata": {},
   "outputs": [
    {
     "name": "stdout",
     "output_type": "stream",
     "text": [
      "[1, 2, [3, 4], [5, 6, [7, 8]]]\n",
      "4\n",
      "1\n",
      "2\n",
      "[3, 4]\n",
      "[5, 6, [7, 8]]\n"
     ]
    }
   ],
   "source": [
    "\n",
    "l = [1, 2, [3, 4], [5, 6, [7, 8]]]\n",
    "print(l)\n",
    "print(len(l))\n",
    "for i in range(len(l)):\n",
    "    print(l[i])\n",
    "\n"
   ]
  },
  {
   "cell_type": "markdown",
   "id": "b20d38e6",
   "metadata": {},
   "source": [
    "# Dict Comprehension"
   ]
  },
  {
   "cell_type": "code",
   "execution_count": 86,
   "id": "a4fc87cd",
   "metadata": {},
   "outputs": [
    {
     "name": "stdout",
     "output_type": "stream",
     "text": [
      "{1: 'Mahesh', 2: 'Tarak', 3: 'Lpu', 4: 'Cse'}\n"
     ]
    }
   ],
   "source": [
    "a=[1,2,3,4]\n",
    "b=[\"Mahesh\",\"Tarak\",\"Lpu\",\"Cse\"]\n",
    "\n",
    "ans=dict((a[i],b[i]) for i in range(len(a)))\n",
    "print(ans)"
   ]
  },
  {
   "cell_type": "code",
   "execution_count": 94,
   "id": "b5a95c90",
   "metadata": {},
   "outputs": [
    {
     "name": "stdout",
     "output_type": "stream",
     "text": [
      "{'Mahesh': 1, 'Tarak': 2, 'Lpu': 3, 'Cse': 4}\n"
     ]
    }
   ],
   "source": [
    "a=ans\n",
    "out=dict((value,key) for key,value in a.items())\n",
    "print(out)"
   ]
  },
  {
   "cell_type": "code",
   "execution_count": null,
   "id": "e0b29cc1",
   "metadata": {},
   "outputs": [
    {
     "name": "stdout",
     "output_type": "stream",
     "text": [
      "{'b': 1, 'a': 3, 'n': 2}\n"
     ]
    }
   ],
   "source": [
    "a=\"banana\"\n",
    "ans=dict()\n",
    "for i in a:\n",
    "   \n",
    "    if i not in ans:\n",
    "        ans[i]=1\n",
    "    else:\n",
    "        ans[i]+=1\n",
    "print(ans)\n",
    "a=\"banana\"\n",
    "ans=dict((i,value))\n",
    "print(ans)\n",
    "\n",
    "# a = \"banana\"\n",
    "# ans = {char: a.count(char) for char in set(a)}\n",
    "# print(ans)\n"
   ]
  },
  {
   "cell_type": "code",
   "execution_count": null,
   "id": "d9fa2ea7",
   "metadata": {},
   "outputs": [],
   "source": [
    " "
   ]
  },
  {
   "cell_type": "markdown",
   "id": "1150605b",
   "metadata": {},
   "source": [
    "# Map"
   ]
  },
  {
   "cell_type": "code",
   "execution_count": 102,
   "id": "624463e9",
   "metadata": {},
   "outputs": [
    {
     "name": "stdout",
     "output_type": "stream",
     "text": [
      "[1, 4, 9, 16]\n"
     ]
    }
   ],
   "source": [
    "a=[1,2,3,4]\n",
    "ans=list(map(lambda x:x**2,a))\n",
    "print(ans)"
   ]
  },
  {
   "cell_type": "code",
   "execution_count": 103,
   "id": "c6a8020f",
   "metadata": {},
   "outputs": [
    {
     "name": "stdout",
     "output_type": "stream",
     "text": [
      "['MAHESH', 'TARAK']\n"
     ]
    }
   ],
   "source": [
    "l=[\"Mahesh\",\"Tarak\"]\n",
    "\n",
    "ans=list(map(lambda x:x.upper(),l))\n",
    "print(ans)"
   ]
  },
  {
   "cell_type": "code",
   "execution_count": 109,
   "id": "63c2850d",
   "metadata": {},
   "outputs": [
    {
     "name": "stdout",
     "output_type": "stream",
     "text": [
      "[111, 222, 333, 444, 555]\n"
     ]
    }
   ],
   "source": [
    "a=[1,2,3,4,5]\n",
    "b=[10,20,30,40,50]\n",
    "c=[100,200,300,400,500]\n",
    "ans=list(map(lambda x,y,z:x+y+z,a,b,c))\n",
    "print(ans)"
   ]
  },
  {
   "cell_type": "code",
   "execution_count": 107,
   "id": "39fb9277",
   "metadata": {},
   "outputs": [
    {
     "name": "stdout",
     "output_type": "stream",
     "text": [
      "[2, 4, 6]\n"
     ]
    }
   ],
   "source": [
    "a=[1,2,3,4,5,6]\n",
    "ans=list(filter(lambda x:x%2==0,a))\n",
    "print(ans)"
   ]
  },
  {
   "cell_type": "code",
   "execution_count": 115,
   "id": "308e0036",
   "metadata": {},
   "outputs": [
    {
     "name": "stdout",
     "output_type": "stream",
     "text": [
      "['my', 'name', 'is', 'mahesh', 'from', 'lpu']\n",
      "['mahesh']\n"
     ]
    }
   ],
   "source": [
    "a=\"my name is mahesh from lpu\"\n",
    "l=a.split()\n",
    "print(l)\n",
    "ans=list(filter(lambda x:len(x)>4,l))\n",
    "print(ans)"
   ]
  },
  {
   "cell_type": "code",
   "execution_count": 117,
   "id": "f1bb2373",
   "metadata": {},
   "outputs": [
    {
     "name": "stdout",
     "output_type": "stream",
     "text": [
      "['mahesh', ' ', True, 'tarak']\n"
     ]
    }
   ],
   "source": [
    "l=[\"mahesh\",\" \",None,True,\"tarak\"]\n",
    "\n",
    "ans=list(filter(None,l))\n",
    "print(ans)"
   ]
  },
  {
   "cell_type": "code",
   "execution_count": 134,
   "id": "a4e08d78",
   "metadata": {},
   "outputs": [
    {
     "name": "stdout",
     "output_type": "stream",
     "text": [
      "[2, 3, 5, 7]\n"
     ]
    }
   ],
   "source": [
    "def Prime(n):\n",
    "    for i in range(2,n):\n",
    "        if n%i==0:\n",
    "            return False\n",
    "    return True\n",
    "\n",
    "\n",
    "l=[2,3,4,5,6,7]\n",
    "ans=list(filter(Prime,l))\n",
    "print(ans)"
   ]
  },
  {
   "cell_type": "code",
   "execution_count": 141,
   "id": "3d0ed8db",
   "metadata": {},
   "outputs": [
    {
     "name": "stdout",
     "output_type": "stream",
     "text": [
      "my name is Mahesh\n"
     ]
    }
   ],
   "source": [
    "from functools import reduce \n",
    "l=[\"my\",\"name\",\"is\",\"Mahesh\"]\n",
    "\n",
    "ans=reduce(lambda a,b:a+\" \"+b,l )\n",
    "print(ans)"
   ]
  },
  {
   "cell_type": "code",
   "execution_count": 145,
   "id": "cca8eab1",
   "metadata": {},
   "outputs": [
    {
     "name": "stdout",
     "output_type": "stream",
     "text": [
      "8\n"
     ]
    }
   ],
   "source": [
    "from functools import reduce\n",
    "\n",
    "l = [2, 1, 4, 3, 8]\n",
    "\n",
    "ans = reduce(lambda x, y: x if x > y else y, l)\n",
    "print(ans)\n"
   ]
  },
  {
   "cell_type": "code",
   "execution_count": 146,
   "id": "d5e7f4cb",
   "metadata": {},
   "outputs": [
    {
     "name": "stdout",
     "output_type": "stream",
     "text": [
      "5\n"
     ]
    }
   ],
   "source": [
    "import math\n",
    "l=[1,2,3,4,5]\n",
    "print(math.ceil(4.5))"
   ]
  },
  {
   "cell_type": "code",
   "execution_count": 148,
   "id": "e7917693",
   "metadata": {},
   "outputs": [
    {
     "name": "stdout",
     "output_type": "stream",
     "text": [
      "Seconds since epoch = 1744023837.4853253\n",
      "Local time: Mon Apr  7 16:33:57 2025\n"
     ]
    }
   ],
   "source": [
    "import time\n",
    "seconds = time.time()\n",
    "\n",
    "print(\"Seconds since epoch =\", seconds)\t\n",
    "\n",
    "\n",
    "# convert the time in seconds since the epoch to a readable format\n",
    "local_time = time.ctime(seconds)\n",
    "\n",
    "print(\"Local time:\", local_time)"
   ]
  },
  {
   "cell_type": "code",
   "execution_count": 149,
   "id": "4fc2d866",
   "metadata": {},
   "outputs": [
    {
     "name": "stdout",
     "output_type": "stream",
     "text": [
      "result: time.struct_time(tm_year=2022, tm_mon=12, tm_mday=28, tm_hour=13, tm_min=38, tm_sec=53, tm_wday=2, tm_yday=362, tm_isdst=0)\n",
      "\n",
      "year: 2022\n",
      "tm_hour: 13\n"
     ]
    }
   ],
   "source": [
    "import time\n",
    "\n",
    "result = time.localtime(1672214933)\n",
    "print(\"result:\", result)\n",
    "print(\"\\nyear:\", result.tm_year)\n",
    "print(\"tm_hour:\", result.tm_hour)"
   ]
  },
  {
   "cell_type": "code",
   "execution_count": 151,
   "id": "ebf9cc1e",
   "metadata": {},
   "outputs": [
    {
     "name": "stdout",
     "output_type": "stream",
     "text": [
      "time.struct_time(tm_year=2025, tm_mon=4, tm_mday=7, tm_hour=16, tm_min=45, tm_sec=26, tm_wday=0, tm_yday=97, tm_isdst=0)\n",
      "2025\n"
     ]
    }
   ],
   "source": [
    "lt = time.localtime()\n",
    "print(lt) \n",
    "print(lt.tm_year)"
   ]
  },
  {
   "cell_type": "code",
   "execution_count": 152,
   "id": "daf2f5fd",
   "metadata": {},
   "outputs": [
    {
     "name": "stdout",
     "output_type": "stream",
     "text": [
      "result: time.struct_time(tm_year=2022, tm_mon=12, tm_mday=28, tm_hour=8, tm_min=8, tm_sec=53, tm_wday=2, tm_yday=362, tm_isdst=0)\n",
      "\n",
      "year: 2022\n",
      "tm_hour: 8\n"
     ]
    }
   ],
   "source": [
    "import time\n",
    "\n",
    "result = time.gmtime(1672214933)\n",
    "print(\"result:\", result)\n",
    "print(\"\\nyear:\", result.tm_year)\n",
    "print(\"tm_hour:\", result.tm_hour)"
   ]
  },
  {
   "cell_type": "code",
   "execution_count": 153,
   "id": "8211d57c",
   "metadata": {},
   "outputs": [
    {
     "name": "stdout",
     "output_type": "stream",
     "text": [
      "Result: Mon Apr  7 16:56:28 2025\n"
     ]
    }
   ],
   "source": [
    "import time\n",
    "\n",
    "t = time.localtime()\n",
    "\n",
    "result = time.asctime(t)\n",
    "print(\"Result:\", result)\n",
    "\n",
    "# Output: Result: Fri Dec 28 08:44:04 2022"
   ]
  },
  {
   "cell_type": "code",
   "execution_count": 154,
   "id": "6a08428d",
   "metadata": {},
   "outputs": [
    {
     "name": "stdout",
     "output_type": "stream",
     "text": [
      "CPU Time: 0.0\n"
     ]
    }
   ],
   "source": [
    "start = time.process_time()\n",
    "x = sum([i for i in range(100000)])\n",
    "end = time.process_time()\n",
    "print(\"CPU Time:\", end - start)"
   ]
  },
  {
   "cell_type": "markdown",
   "id": "d25d3b2f",
   "metadata": {},
   "source": [
    "# DATE TIME"
   ]
  },
  {
   "cell_type": "code",
   "execution_count": 156,
   "id": "5e4170d2",
   "metadata": {},
   "outputs": [
    {
     "name": "stdout",
     "output_type": "stream",
     "text": [
      "Current Date and Time: 2025-04-07 17:18:13.622265\n"
     ]
    }
   ],
   "source": [
    "import datetime\n",
    "\n",
    "now = datetime.datetime.now()\n",
    "print(\"Current Date and Time:\", now)\n"
   ]
  },
  {
   "cell_type": "code",
   "execution_count": 157,
   "id": "fe0320b8",
   "metadata": {},
   "outputs": [
    {
     "name": "stdout",
     "output_type": "stream",
     "text": [
      "Today's date: 2025-04-07\n",
      "Current time: 17:18:23.711758\n"
     ]
    }
   ],
   "source": [
    "today = datetime.date.today()\n",
    "print(\"Today's date:\", today)\n",
    "\n",
    "current_time = datetime.datetime.now().time()\n",
    "print(\"Current time:\", current_time)\n"
   ]
  },
  {
   "cell_type": "code",
   "execution_count": 158,
   "id": "28d9002b",
   "metadata": {},
   "outputs": [
    {
     "name": "stdout",
     "output_type": "stream",
     "text": [
      "Custom DateTime: 2025-04-07 12:30:00\n"
     ]
    }
   ],
   "source": [
    "dt = datetime.datetime(2025, 4, 7, 12, 30)\n",
    "print(\"Custom DateTime:\", dt)\n"
   ]
  },
  {
   "cell_type": "code",
   "execution_count": 162,
   "id": "6d4526fa",
   "metadata": {},
   "outputs": [
    {
     "name": "stdout",
     "output_type": "stream",
     "text": [
      "2025-04-07\n",
      "Monday\n",
      "05:24 PM\n"
     ]
    }
   ],
   "source": [
    "now = datetime.datetime.now()\n",
    "\n",
    "print(now.strftime(\"%Y-%m-%d\"))  # 2025-04-07\n",
    "print(now.strftime(\"%A\"))        # Monday\n",
    "print(now.strftime(\"%I:%M %p\"))  # 03:30 PM\n"
   ]
  },
  {
   "cell_type": "code",
   "execution_count": 160,
   "id": "49aaf4a2",
   "metadata": {},
   "outputs": [
    {
     "name": "stdout",
     "output_type": "stream",
     "text": [
      "Tomorrow: 2025-04-08\n",
      "Days Difference: 1\n"
     ]
    }
   ],
   "source": [
    "today = datetime.date.today()\n",
    "tomorrow = today + datetime.timedelta(days=1)\n",
    "print(\"Tomorrow:\", tomorrow)\n",
    "\n",
    "diff = tomorrow - today\n",
    "print(\"Days Difference:\", diff.days)\n"
   ]
  },
  {
   "cell_type": "code",
   "execution_count": 165,
   "id": "95460c85",
   "metadata": {},
   "outputs": [
    {
     "name": "stdout",
     "output_type": "stream",
     "text": [
      "2025-04-07 17:29:51.560184\n",
      "07-04-2025\n"
     ]
    }
   ],
   "source": [
    "t=datetime.datetime.now()\n",
    "print(t)\n",
    "print(t.strftime(\"%d-%m-%Y\"))"
   ]
  },
  {
   "cell_type": "code",
   "execution_count": 168,
   "id": "d002d368",
   "metadata": {},
   "outputs": [
    {
     "name": "stdout",
     "output_type": "stream",
     "text": [
      "Days left until your next birthday: 72\n"
     ]
    }
   ],
   "source": [
    "import datetime\n",
    "\n",
    "# Your birth date (replace with your actual birthday)\n",
    "birth_month = 6\n",
    "birth_day = 18\n",
    "\n",
    "# Today's date\n",
    "today = datetime.date.today()\n",
    "current_year = today.year\n",
    "\n",
    "# Your birthday this year\n",
    "next_birthday = datetime.date(current_year, birth_month, birth_day)\n",
    "\n",
    "\n",
    "# Calculate the difference\n",
    "days_left = (next_birthday - today).days\n",
    "\n",
    "print(\"Days left until your next birthday:\", days_left)\n"
   ]
  },
  {
   "cell_type": "code",
   "execution_count": 175,
   "id": "b2719733",
   "metadata": {},
   "outputs": [
    {
     "name": "stdout",
     "output_type": "stream",
     "text": [
      "{1: {'Name': 'hticgd', 'Age': 46, 'Phone': '2705949476', 'Email': 'tcgdhgi@gamil.com'}, 2: {'Name': 'etief', 'Age': 58, 'Phone': '7526935252', 'Email': 'eeifeet@gamil.com'}, 3: {'Name': 'pygax', 'Age': 32, 'Phone': '3908622079', 'Email': 'pyygyax@gamil.com'}, 4: {'Name': 'qpbgtgdee', 'Age': 44, 'Phone': '7734847837', 'Email': 'gpggtee@gamil.com'}, 5: {'Name': 'vegfe', 'Age': 52, 'Phone': '6320323989', 'Email': 'fvfeeeg@gamil.com'}, 6: {'Name': 'dascdmxe', 'Age': 45, 'Phone': '7428064748', 'Email': 'sdcmdad@gamil.com'}, 7: {'Name': 'waoqfee', 'Age': 54, 'Phone': '1793746154', 'Email': 'eeqqewf@gamil.com'}, 8: {'Name': 'lwjqtus', 'Age': 54, 'Phone': '1622488597', 'Email': 'lswtwlq@gamil.com'}, 9: {'Name': 'bfatvw', 'Age': 29, 'Phone': '7454578493', 'Email': 'wfbwabv@gamil.com'}, 10: {'Name': 'hhbcco', 'Age': 33, 'Phone': '8448971096', 'Email': 'hobhhoo@gamil.com'}}\n"
     ]
    }
   ],
   "source": [
    "import random\n",
    "import string\n",
    "\n",
    "l={}\n",
    "for i in range(10):\n",
    "    allowed_chars = \"abcdefghijklmopqrstuvwxyz\"\n",
    "    numbers=\"0123456789\"\n",
    "    \n",
    "    name = ''.join(random.choices(allowed_chars, k=random.randint(5, 9)))\n",
    "    age=random.randint(18,60)\n",
    "    num=''.join(random.choices(numbers,k=10))\n",
    "    mail=''.join(random.choices(name,k=7))\n",
    "    cmail=mail+'@gamil.com'\n",
    "\n",
    "    l[i + 1] = {\"Name\": name,\"Age\": age,\"Phone\": num,\"Email\":cmail}\n",
    "print(l)\n",
    "\n"
   ]
  },
  {
   "cell_type": "code",
   "execution_count": null,
   "id": "0b281108",
   "metadata": {},
   "outputs": [],
   "source": []
  }
 ],
 "metadata": {
  "kernelspec": {
   "display_name": "Python 3",
   "language": "python",
   "name": "python3"
  },
  "language_info": {
   "codemirror_mode": {
    "name": "ipython",
    "version": 3
   },
   "file_extension": ".py",
   "mimetype": "text/x-python",
   "name": "python",
   "nbconvert_exporter": "python",
   "pygments_lexer": "ipython3",
   "version": "3.12.3"
  }
 },
 "nbformat": 4,
 "nbformat_minor": 5
}
