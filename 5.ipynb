{
 "cells": [
  {
   "cell_type": "code",
   "execution_count": 4,
   "id": "0eda6e10",
   "metadata": {},
   "outputs": [
    {
     "name": "stdout",
     "output_type": "stream",
     "text": [
      "Inner function: 15\n",
      "Outer function: 15\n"
     ]
    }
   ],
   "source": [
    "# scope inside a nested function\n",
    "\n",
    "def data():\n",
    "    x = 10  # local variable\n",
    "\n",
    "    def inner():\n",
    "        nonlocal x  # refer to the variable in the enclosing scope\n",
    "        x += 5  # modify the variable in the enclosing scope\n",
    "        print(\"Inner function:\", x)\n",
    "\n",
    "    inner()  # call the inner function\n",
    "    print(\"Outer function:\", x)  # print the modified value\n",
    "data()"
   ]
  },
  {
   "cell_type": "code",
   "execution_count": null,
   "id": "903f020a",
   "metadata": {},
   "outputs": [
    {
     "name": "stdout",
     "output_type": "stream",
     "text": [
      "Outer function: 2\n",
      "2\n",
      "Inner function: Mahesh\n",
      "Inner function: Red\n",
      "3\n",
      "Outer function: John\n",
      "3\n"
     ]
    }
   ],
   "source": [
    "name = \"John\"  # global variable\n",
    "count=1\n",
    "def outer():\n",
    "    global c1\n",
    "    c1=1\n",
    "    color=\"blue\"  # local variable\n",
    "    global count  # refer to the global variable\n",
    "    count += 1  # modify the global variable\n",
    "    print(\"Outer function:\", count)\n",
    "    c1+=1\n",
    "    print(c1)\n",
    "\n",
    "    def inner(name):\n",
    "        global color,count,c1  # refer to the global variable\n",
    "        color=\"Red\"  # modify the global variable\n",
    "        print(\"Inner function:\", name)\n",
    "        print(\"Inner function:\", color)\n",
    "        count+=1\n",
    "        c1+=1\n",
    "        print(c1)\n",
    "        \n",
    "    inner(\"Mahesh\")  # call the inner function\n",
    "    print(\"Outer function:\", name)  # print the modified value  \n",
    "    print(count)\n",
    "outer()  # call the outer function"
   ]
  }
 ],
 "metadata": {
  "kernelspec": {
   "display_name": "Python 3",
   "language": "python",
   "name": "python3"
  },
  "language_info": {
   "codemirror_mode": {
    "name": "ipython",
    "version": 3
   },
   "file_extension": ".py",
   "mimetype": "text/x-python",
   "name": "python",
   "nbconvert_exporter": "python",
   "pygments_lexer": "ipython3",
   "version": "3.12.3"
  }
 },
 "nbformat": 4,
 "nbformat_minor": 5
}
