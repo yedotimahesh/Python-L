{
 "cells": [
  {
   "cell_type": "code",
   "execution_count": null,
   "metadata": {},
   "outputs": [
    {
     "name": "stdout",
     "output_type": "stream",
     "text": [
      "A: 4\n",
      "B: 3\n",
      "A: 1\n",
      "B stops\n"
     ]
    }
   ],
   "source": [
    "def A(n):\n",
    "    if n <= 0:\n",
    "        print(\"A stops\")\n",
    "        return\n",
    "    \n",
    "    else:\n",
    "        print(f\"A: {n}\")\n",
    "        B(n - 1)\n",
    "        \n",
    "    # print(f\"A: {n}\")\n",
    "    # B(n - 1)\n",
    "\n",
    "def B(n):\n",
    "    if n <= 0:\n",
    "        print(\"B stops\")\n",
    "        return A(n-2)\n",
    "    print(f\"B: {n}\")\n",
    "  \n",
    "\n",
    "A(4)\n"
   ]
  },
  {
   "cell_type": "markdown",
   "metadata": {},
   "source": [
    "# Count digits"
   ]
  },
  {
   "cell_type": "code",
   "execution_count": null,
   "metadata": {},
   "outputs": [],
   "source": [
    "def fun(num):\n",
    "    if num<=0:\n",
    "        return 0\n",
    "    else:\n",
    "       return 1+fun(num//10)\n",
    "num=int(input())\n",
    "print(fun(num))"
   ]
  },
  {
   "cell_type": "markdown",
   "metadata": {},
   "source": [
    "# Fibanocci Series "
   ]
  },
  {
   "cell_type": "code",
   "execution_count": 4,
   "metadata": {},
   "outputs": [
    {
     "name": "stdout",
     "output_type": "stream",
     "text": [
      "0 1 1 2 3 5 8 13 21 34 "
     ]
    }
   ],
   "source": [
    "def fun(num):\n",
    "    if num==0:\n",
    "        return 0\n",
    "    if num==1:  \n",
    "        return 1\n",
    "    else:\n",
    "       return fun(num-1)+fun(num-2)\n",
    "    \n",
    "num=int(input())\n",
    "for i in range(num):\n",
    "    print(fun(i),end=\" \")"
   ]
  },
  {
   "cell_type": "markdown",
   "metadata": {},
   "source": [
    "# FACTORIAL\n"
   ]
  },
  {
   "cell_type": "code",
   "execution_count": null,
   "metadata": {},
   "outputs": [],
   "source": []
  },
  {
   "cell_type": "code",
   "execution_count": null,
   "metadata": {},
   "outputs": [],
   "source": []
  },
  {
   "cell_type": "code",
   "execution_count": null,
   "metadata": {},
   "outputs": [],
   "source": []
  },
  {
   "cell_type": "code",
   "execution_count": null,
   "metadata": {},
   "outputs": [],
   "source": [
    "def fun(num):  # FIRST CLASS FUNCTION\n",
    "    return num*num\n",
    "    \n",
    "num=int(input())\n",
    "\n",
    "ans=fun\n",
    "print(ans(num))"
   ]
  },
  {
   "cell_type": "code",
   "execution_count": null,
   "metadata": {},
   "outputs": [
    {
     "name": "stdout",
     "output_type": "stream",
     "text": [
      "Before function\n",
      "Hello!\n",
      "After function\n"
     ]
    }
   ],
   "source": [
    "# 1. Simple Nested Function\n",
    "\n",
    "\n",
    "# def outer():\n",
    "#     def inner():\n",
    "#         print(\"This is inner function\")\n",
    "#     inner()\n",
    "# def greet(name):\n",
    "#     def message():\n",
    "#         return \"Hello\"\n",
    "#     print(message(), name)\n",
    "\n",
    "# greet(\"Mahesh\") \n",
    "\n",
    "\n",
    "# 2. Returning a Function (Closure)  \n",
    "\n",
    "# def power(n):\n",
    "#     def calc(x):\n",
    "#         return x ** n\n",
    "#     return calc\n",
    "\n",
    "# square = power(2)\n",
    "# cube = power(3)\n",
    "\n",
    "# print(square(5))  # Output: 25\n",
    "# print(cube(2))    # Output: 8\n",
    "\n",
    "\n",
    "#3. Function as Return + Parameter\n",
    "\n",
    "# def outer(x):\n",
    "#     def inner(y):\n",
    "#         return x + y\n",
    "#     return inner\n",
    "\n",
    "# add_10 = outer(10)\n",
    "# print(add_10(5))  # Output: 15\n",
    "\n",
    "\n",
    "#  4. Using nonlocal with Nested Functions\n",
    "\n",
    "# def outer():\n",
    "#     count = 0\n",
    "#     def inner():\n",
    "#         nonlocal count\n",
    "#         count += 1\n",
    "#         print(\"Count is:\", count)\n",
    "#     inner()\n",
    "#     inner()\n",
    "\n",
    "# outer()\n",
    "\n",
    "#  5. Decorators (Advanced Use of Nested Functions)\n",
    "\n",
    "# def decorator(func):\n",
    "#     def wrapper():\n",
    "#         print(\"Before function\")\n",
    "#         func()\n",
    "#         print(\"After function\")\n",
    "#     return wrapper\n",
    "\n",
    "# @decorator\n",
    "# def say_hello():\n",
    "#     print(\"Hello!\")\n",
    "\n",
    "# say_hello()\n",
    "\n",
    " # Closure to Add a Fixed Number\n",
    "\n",
    "def add_fixed_number(fixed):\n",
    "    def adder(x):\n",
    "        return x + fixed\n",
    "    return adder  # This inner function is a closure\n",
    "add_10 = add_fixed_number(10)\n",
    "add_50 = add_fixed_number(50)\n",
    "\n",
    "print(add_10(5))    # Output: 15\n",
    "print(add_10(25))   # Output: 75\n",
    "\n"
   ]
  },
  {
   "cell_type": "code",
   "execution_count": 41,
   "metadata": {},
   "outputs": [
    {
     "name": "stdout",
     "output_type": "stream",
     "text": [
      "[1, 2, 3, 4, 5]\n"
     ]
    }
   ],
   "source": [
    "l=[1,[2,[3,4],5]]\n",
    "s=str(l)\n",
    "ans=[]\n",
    "for i in s:\n",
    "    if i.isdigit():\n",
    "        ans.append(int(i))\n",
    "print(ans)\n",
    "\n"
   ]
  },
  {
   "cell_type": "code",
   "execution_count": null,
   "metadata": {},
   "outputs": [
    {
     "name": "stdout",
     "output_type": "stream",
     "text": [
      "['a', 'b', 'c', 'd']\n"
     ]
    },
    {
     "ename": "KeyboardInterrupt",
     "evalue": "",
     "output_type": "error",
     "traceback": [
      "\u001b[31m---------------------------------------------------------------------------\u001b[39m",
      "\u001b[31mKeyboardInterrupt\u001b[39m                         Traceback (most recent call last)",
      "\u001b[36mCell\u001b[39m\u001b[36m \u001b[39m\u001b[32mIn[47]\u001b[39m\u001b[32m, line 10\u001b[39m\n\u001b[32m      8\u001b[39m low=\u001b[32m0\u001b[39m\n\u001b[32m      9\u001b[39m high=\u001b[38;5;28mlen\u001b[39m(ans)-\u001b[32m1\u001b[39m\n\u001b[32m---> \u001b[39m\u001b[32m10\u001b[39m \u001b[38;5;28;01mwhile\u001b[39;00m low<high:\n\u001b[32m     11\u001b[39m     out.append(ans[low])\n\u001b[32m     12\u001b[39m     high+=\u001b[32m1\u001b[39m\n",
      "\u001b[31mKeyboardInterrupt\u001b[39m: "
     ]
    }
   ],
   "source": []
  },
  {
   "cell_type": "code",
   "execution_count": 25,
   "metadata": {},
   "outputs": [
    {
     "name": "stdout",
     "output_type": "stream",
     "text": [
      "a ab abc abcd\n",
      "b bc bcd\n",
      "c cd\n",
      "d\n"
     ]
    }
   ],
   "source": [
    "s = \"abcd\"\n",
    "ans = []\n",
    "for i in s:\n",
    "    ans.append(i)\n",
    "\n",
    "\n",
    "for i in range(0, len(ans)):\n",
    "    \n",
    "    out = []\n",
    "    for j in range(i, len(ans)):\n",
    "        out.append(\"\".join(ans[i:j+1])) \n",
    "    print(*out)\n"
   ]
  },
  {
   "cell_type": "code",
   "execution_count": 27,
   "metadata": {},
   "outputs": [
    {
     "name": "stdout",
     "output_type": "stream",
     "text": [
      "3.0\n"
     ]
    }
   ],
   "source": [
    "# calculating the average of the given arguments using *args\n",
    "def average(*args):\n",
    "    sum = 0\n",
    "    count=0\n",
    "    for i in args:\n",
    "        sum += i\n",
    "        count+=1\n",
    "    return sum / count\n",
    "print(average(1, 2, 3, 4, 5)) "
   ]
  },
  {
   "cell_type": "code",
   "execution_count": 54,
   "metadata": {},
   "outputs": [
    {
     "name": "stdout",
     "output_type": "stream",
     "text": [
      "Not in order\n",
      "no field is missing\n",
      "Missing fields: dob\n",
      "Not in order\n",
      "Missing fields: name, email\n"
     ]
    }
   ],
   "source": [
    "# def average(**args):\n",
    "#     # ans={'name':None,'email':None,'dob':None}\n",
    "#     # for i in args:\n",
    "#     #     if i == \"name\":\n",
    "#     #         ans[\"name\"]=args[i]\n",
    "#     #     if i == \"email\":\n",
    "#     #         ans[\"email\"]=args[i]\n",
    "#     #     if i == \"dob\":\n",
    "#     #         ans[\"dob\"]=args[i]\n",
    "#     # for i in ans.keys():\n",
    "#     #     if ans[i] == None:\n",
    "#     #         ans[i]=args[i]\n",
    "#     # return ans\n",
    "#     return args\n",
    "# print(average(name=\"Mahesh\",email=\"YYYYYy\",dob=\"19/09/2000\")) \n",
    "# print(average(name=\"Mahesh\",email=\"YYYYYy\",dob=\"19/09/2000\")) \n",
    "\n",
    "\n",
    "def average(**args):\n",
    "    required_fields = ['name', 'email', 'dob']\n",
    "    left=0\n",
    "    for i in args.keys():\n",
    "        if(i!=required_fields[left]):\n",
    "            print(\"Not in order\")\n",
    "        else:\n",
    "            left+=1\n",
    "\n",
    "  \n",
    "    missing = []\n",
    "    for i in required_fields:\n",
    "        if i not in args:\n",
    "            missing.append(i)   \n",
    "\n",
    "    if missing:\n",
    "        return f\"Missing fields: {', '.join(missing)}\"\n",
    "    else:\n",
    "        return \"no field is missing\"\n",
    "    \n",
    "    \n",
    "print(average(dob=\"19/09/2000\",name=\"Mahesh\",email=\"YYYYYy\"))\n",
    "print(average(name=\"Mahesh\",email=\"YYYYYy\"))\n",
    "print(average(dob=\"19/09/2000\"))\n"
   ]
  },
  {
   "cell_type": "code",
   "execution_count": null,
   "metadata": {},
   "outputs": [
    {
     "name": "stdout",
     "output_type": "stream",
     "text": [
      "{'a': 1, 'b': 2, 'c': 3, 'd': 4}\n"
     ]
    }
   ],
   "source": [
    "// keyword arguments\n",
    "def Bill(**args):\n",
    "    # if(tax>5):\n",
    "    #     pass\n",
    "    return args\n",
    "\n",
    "\n",
    "bill=int(input(\"Enter the bill amount: \"))      \n",
    "tax=int(input(\"Enter the tax percentage: \"))\n",
    "tip=int(input(\"Enter the tip percentage: \"))\n",
    "discount=int(input(\"Enter the discount percentage: \"))\n",
    "print(Bill(a=bill,b=tax,c=tip,d=discount))"
   ]
  }
 ],
 "metadata": {
  "kernelspec": {
   "display_name": "Python 3",
   "language": "python",
   "name": "python3"
  },
  "language_info": {
   "codemirror_mode": {
    "name": "ipython",
    "version": 3
   },
   "file_extension": ".py",
   "mimetype": "text/x-python",
   "name": "python",
   "nbconvert_exporter": "python",
   "pygments_lexer": "ipython3",
   "version": "3.12.3"
  }
 },
 "nbformat": 4,
 "nbformat_minor": 2
}
