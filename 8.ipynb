{
 "cells": [
  {
   "cell_type": "code",
   "execution_count": null,
   "id": "df523f4e",
   "metadata": {},
   "outputs": [
    {
     "name": "stdout",
     "output_type": "stream",
     "text": [
      "Else block successfully 10\n"
     ]
    }
   ],
   "source": [
    "# print(10/0)\n",
    "# try:\n",
    "#     print(10/0)\n",
    "# except ZeroDivisionError as e:\n",
    "#     print(\"Some thing is wronmg\")\n",
    "\n",
    "\n",
    "# try:\n",
    "#     print(10/0)\n",
    "# except Exception as e:\n",
    "#     print(\"Some thing is wrong : \",e)\n",
    "# print(\"Hello\")\n",
    "\n",
    "# try: # in try block if error comes in second line that error will trigger only\n",
    "#     print(1/0)\n",
    "#     var=var1\n",
    "#     print(var)\n",
    "# except ZeroDivisionError as e:\n",
    "#     print(\"Some thing is wrong : \",e)\n",
    "\n",
    "# except NameError as n:\n",
    "#     print(\"name erroe raised\",n)\n",
    "# print(\"Hello\")\n",
    "\n",
    "\n",
    "\n",
    "# try:\n",
    "#     with open(\"Tarak.txt\", 'r') as file:\n",
    "#         content = file.read()\n",
    "#         print(content)\n",
    "# except FileNotFoundError as e:\n",
    "#     print(\"File not found:\", e)\n",
    "# finally:\n",
    "#     print(\"Execution of the file handling block is complete.\")\n",
    "\n",
    "\n",
    "# Try goes wrong else will execute if try goes fails else will not execute\n",
    "\n",
    "# try:\n",
    "#     a=10\n",
    "# except ZeroDivisionError as a:\n",
    "#     print(\"Error found: \", a)\n",
    "#     a = False\n",
    "\n",
    "# else:\n",
    "#     print(\"Else block successfully {}\".format(a))\n",
    "\n",
    "\n",
    "#try block alone not possinle it can be either except and finally\n",
    "\n"
   ]
  },
  {
   "cell_type": "code",
   "execution_count": 8,
   "id": "b13774c2",
   "metadata": {},
   "outputs": [],
   "source": [
    "try:\n",
    "    pass \n",
    "except Exception:\n",
    "    pass\n",
    "else:\n",
    "    pass\n",
    "finally:\n",
    "    pass"
   ]
  },
  {
   "cell_type": "code",
   "execution_count": 7,
   "id": "60fef912",
   "metadata": {},
   "outputs": [
    {
     "name": "stdout",
     "output_type": "stream",
     "text": [
      "Sorry file not found\n"
     ]
    }
   ],
   "source": [
    "import json\n",
    "try:\n",
    "    with open(\"mahi.txt\",'r') as file:\n",
    "        d=json.dumps(file)\n",
    "\n",
    "except Exception:\n",
    "    print(\"Sorry file not found\")\n",
    "\n",
    "    \n"
   ]
  },
  {
   "cell_type": "code",
   "execution_count": null,
   "id": "5ce16daf",
   "metadata": {},
   "outputs": [
    {
     "name": "stdout",
     "output_type": "stream",
     "text": [
      "Sorry file not found\n"
     ]
    }
   ],
   "source": [
    "import json\n",
    "\n",
    "try:\n",
    "    var=var1\n",
    "except Exception:\n",
    "    print(\"Sorry file not found\")\n",
    "    \n",
    "\n"
   ]
  },
  {
   "cell_type": "code",
   "execution_count": 17,
   "id": "1852bbb6",
   "metadata": {},
   "outputs": [
    {
     "name": "stdout",
     "output_type": "stream",
     "text": [
      "Sorry, variable is not defined: name 'var1' is not defined\n"
     ]
    }
   ],
   "source": [
    "try:\n",
    "    var = var1\n",
    "except NameError as e:  # Correcting the error type to NameError\n",
    "    print(\"Sorry, variable is not defined:\", e)"
   ]
  },
  {
   "cell_type": "code",
   "execution_count": null,
   "id": "4360f71f",
   "metadata": {},
   "outputs": [
    {
     "name": "stdout",
     "output_type": "stream",
     "text": [
      "Sorry file not found\n"
     ]
    }
   ],
   "source": [
    "import json\n",
    "try:\n",
    "    # with open(\"mahi.txt\",'r') as file:\n",
    "    #     d=json.dumps(file)\n",
    "\n",
    "    var=int(\"Mmm\")\n",
    "    \n",
    "\n",
    "\n",
    "\n",
    "except FileNotFoundError :\n",
    "    print(\"File not found\")\n",
    "\n",
    "except ValueError:\n",
    "    print(\"value eoor\")\n",
    "\n",
    "except Exception:\n",
    "    print(\"Sorry file not found\")\n",
    "\n",
    "\n",
    "\n",
    "\n"
   ]
  },
  {
   "cell_type": "code",
   "execution_count": 32,
   "id": "a6181231",
   "metadata": {},
   "outputs": [
    {
     "name": "stdout",
     "output_type": "stream",
     "text": [
      "Error raised:  [Errno 2] No such file or directory: 'Mahi.txt'\n",
      "Execution successful False\n"
     ]
    }
   ],
   "source": [
    "# finally runs no matter whether errors are present or not in the try block\n",
    "try:\n",
    "    f = open(\"Mahi.txt\", 'r')\n",
    "    f.close()\n",
    "    a=True\n",
    "    print(b)\n",
    "\n",
    "except FileNotFoundError as e:\n",
    "    print(\"Error raised: \", e)\n",
    "    a = False\n",
    "\n",
    "else:\n",
    "    print(\"No errors occurred in the try block.\")\n",
    "\n",
    "finally:\n",
    "    print(f\"Execution successful {a}\")"
   ]
  },
  {
   "cell_type": "code",
   "execution_count": 34,
   "id": "5029c5a5",
   "metadata": {},
   "outputs": [
    {
     "name": "stdout",
     "output_type": "stream",
     "text": [
      "1\n",
      "2\n",
      "1\n",
      "1\n",
      "1\n",
      "5\n"
     ]
    }
   ],
   "source": [
    "values=[10,5,6,0,9,8,2]\n",
    "\n",
    "for i in values:\n",
    "    try:\n",
    "        print(10//i)\n",
    "    except:\n",
    "        pass"
   ]
  },
  {
   "cell_type": "code",
   "execution_count": 35,
   "id": "eb4de211",
   "metadata": {},
   "outputs": [
    {
     "name": "stdout",
     "output_type": "stream",
     "text": [
      "1\n",
      "2\n",
      "1\n",
      "1\n",
      "1\n",
      "5\n"
     ]
    }
   ],
   "source": [
    "values=[10,5,6,0,9,8,2]\n",
    "\n",
    "for i in values:\n",
    "    try:\n",
    "        print(10//i)\n",
    "    except:\n",
    "        continue"
   ]
  },
  {
   "cell_type": "code",
   "execution_count": 40,
   "id": "064cf27f",
   "metadata": {},
   "outputs": [
    {
     "name": "stdout",
     "output_type": "stream",
     "text": [
      "1\n",
      "2\n",
      "1\n"
     ]
    }
   ],
   "source": [
    "values=[10,5,6,0,9,8,2]\n",
    "\n",
    "for i in values:\n",
    "    try:\n",
    "        print(10//i)\n",
    "        \n",
    "    except:\n",
    "        break"
   ]
  },
  {
   "cell_type": "code",
   "execution_count": 48,
   "id": "b9a98a55",
   "metadata": {},
   "outputs": [
    {
     "name": "stdout",
     "output_type": "stream",
     "text": [
      "invalid literal for int() with base 10: 'Hello'\n",
      "invalid literal for int() with base 10: 'Hello'\n",
      "invalid literal for int() with base 10: 'Hello'\n",
      "invalid literal for int() with base 10: 'Hello'\n",
      "invalid literal for int() with base 10: 'Hello'\n",
      "invalid literal for int() with base 10: 'Hello'\n",
      "invalid literal for int() with base 10: 'Hello'\n"
     ]
    }
   ],
   "source": [
    "import logging\n",
    "\n",
    "logging.basicConfig(filename='error.log', level=logging.ERROR)\n",
    "\n",
    "values=[10,5,6,0,9,8,2]\n",
    "for i in values:\n",
    "    try:\n",
    "        # print(10//i)\n",
    "        print(int(\"Hello\"))\n",
    "        \n",
    "    except ValueError as e:\n",
    "        print(e)\n",
    "\n",
    "    except Exception as e:  # General exception handling with logging\n",
    "        logging.exception(e)"
   ]
  },
  {
   "cell_type": "code",
   "execution_count": 57,
   "id": "27bf7f32",
   "metadata": {},
   "outputs": [
    {
     "name": "stdout",
     "output_type": "stream",
     "text": [
      "1.0\n",
      "2.0\n",
      "1.6666666666666667\n",
      "Error raised: division by zero\n",
      "Error raised: invalid literal for int() with base 10: 'Hello'\n",
      "5.0\n"
     ]
    }
   ],
   "source": [
    "values = [10, 5, 6, 0, 'Hello', 2]\n",
    "\n",
    "for i in values:\n",
    "    try:\n",
    "        print(10 / int(i))\n",
    "        \n",
    "    except (ValueError,ZeroDivisionError) as e:\n",
    "        print(\"Error raised:\", e)\n",
    "\n",
    "    except Exception as e:\n",
    "        print(e)\n",
    "\n"
   ]
  },
  {
   "cell_type": "code",
   "execution_count": null,
   "id": "7447c32f",
   "metadata": {},
   "outputs": [
    {
     "name": "stdout",
     "output_type": "stream",
     "text": [
      "Syntax error raised  '(' was never closed (<string>, line 1)\n"
     ]
    }
   ],
   "source": [
    "import sys\n",
    "\n",
    "try:\n",
    "    # Example operation that might raise an error\n",
    "    # print(name) # Name error\n",
    "     # 1. SyntaxError (cannot be caught, shown here for reference)\n",
    "    # eval(\"if True print('hello')\")\n",
    "    exec('print(Mahesh)')\n",
    "\n",
    "    # 2. NameError\n",
    "    print(unknown_var)\n",
    "\n",
    "    # 3. TypeError\n",
    "    result = '5' + 10\n",
    "\n",
    "    # 4. ValueError\n",
    "    number = int(\"abc\")\n",
    "\n",
    "    # 5. IndexError\n",
    "    l = [1, 2, 3]\n",
    "    print(l[5])\n",
    "\n",
    "    # 6. KeyError\n",
    "    d = {\"a\": 1}\n",
    "    print(d[\"b\"])\n",
    "\n",
    "    # 7. FileNotFoundError\n",
    "    open(\"non_existent_file.txt\")\n",
    "\n",
    "    # 8. AttributeError\n",
    "    x = 10\n",
    "    x.append(5)  # int has no append()\n",
    "\n",
    "    # 9. ZeroDivisionError\n",
    "    print(10 / 0)\n",
    "\n",
    "    # 10. ImportError / ModuleNotFoundError\n",
    "    import non_existing_module\n",
    "\n",
    "    # 11. AssertionError\n",
    "    assert 2 + 2 == 5, \"Math is broken!\"\n",
    "\n",
    "    # 12. OverflowError (this will only happen in specific scenarios)\n",
    "    import math\n",
    "    print(math.exp(1000))\n",
    "\n",
    "    # 13. RecursionError\n",
    "    def recurse(): return recurse()\n",
    "    recurse()\n",
    "\n",
    "\n",
    "\n",
    "    a=Math.max(10,20)\n",
    "except SyntaxError as e:\n",
    "    print(\"Syntax error raised \",e)\n",
    "\n",
    "except OverflowError as e:\n",
    "    print(\"OverflowError error raised\",e)\n",
    "\n",
    "except RecursionError as e:\n",
    "    print(\"Recursion erroe raises\",e)\n",
    "\n",
    "except OSError as e:\n",
    "    print(\"OSError raised\",e)\n",
    "\n",
    "\n",
    "\n",
    "except AssertionError as e:\n",
    "    print(\"AssertionError raised \",e)\n",
    "\n",
    "except AttributeError as e:\n",
    "    print(\"AttributeError raised \",e)\n",
    "\n",
    "\n",
    "except FileNotFoundError as e:\n",
    "    print(\"File not found error\", e)\n",
    "\n",
    "except NameError as e:\n",
    "    print(\"Name error\", e)\n",
    "\n",
    "except TypeError as e:\n",
    "    print(\"Type error\", e)\n",
    "\n",
    "except KeyError as e:\n",
    "    print(\"KeyError\", e)\n",
    "\n",
    "except ZeroDivisionError as zde:\n",
    "    print(\"ZeroDivisionError occurred:\", zde)\n",
    "\n",
    "except ValueError as ve:\n",
    "    print(\"ValueError occurred:\", ve)\n",
    "\n",
    "except IndexError as ie:\n",
    "    print(\"IndexError occurred:\", ie)\n",
    "\n",
    "except Exception as ex:\n",
    "    print(\"An unexpected error occurred:\", ex)"
   ]
  },
  {
   "cell_type": "code",
   "execution_count": 83,
   "id": "abbdc1d2",
   "metadata": {},
   "outputs": [
    {
     "name": "stdout",
     "output_type": "stream",
     "text": [
      "2.0\n",
      "1.0\n",
      "0.6666666666666666\n",
      "0.5\n",
      "error <class 'TypeError'>\n"
     ]
    }
   ],
   "source": [
    "import sys\n",
    "l=[1,2,3,4,\"Mahi\"]\n",
    "\n",
    "for i in l:\n",
    "    try:\n",
    "        c=2/i\n",
    "        print(c)\n",
    "    except:\n",
    "        print(\"error\",sys.exc_info()[0])"
   ]
  },
  {
   "cell_type": "markdown",
   "id": "53e9be6c",
   "metadata": {},
   "source": [
    "# raise manualy by the coder"
   ]
  },
  {
   "cell_type": "code",
   "execution_count": 10,
   "id": "71992393",
   "metadata": {},
   "outputs": [
    {
     "name": "stdout",
     "output_type": "stream",
     "text": [
      "5.0\n",
      "erroe\n"
     ]
    }
   ],
   "source": [
    "try:\n",
    "    print(10/2)\n",
    "    raise ValueError\n",
    "except:\n",
    "    print(\"erroe\")\n",
    "\n",
    "else:\n",
    "    print(\"Hello\")\n"
   ]
  },
  {
   "cell_type": "code",
   "execution_count": null,
   "id": "3dcd404f",
   "metadata": {},
   "outputs": [
    {
     "ename": "ValueError",
     "evalue": "N should be positive",
     "output_type": "error",
     "traceback": [
      "\u001b[31m---------------------------------------------------------------------------\u001b[39m",
      "\u001b[31mValueError\u001b[39m                                Traceback (most recent call last)",
      "\u001b[36mCell\u001b[39m\u001b[36m \u001b[39m\u001b[32mIn[88]\u001b[39m\u001b[32m, line 3\u001b[39m\n\u001b[32m      1\u001b[39m n=-\u001b[32m3\u001b[39m\n\u001b[32m      2\u001b[39m \u001b[38;5;28;01mif\u001b[39;00m n<\u001b[32m0\u001b[39m:\n\u001b[32m----> \u001b[39m\u001b[32m3\u001b[39m     \u001b[38;5;28;01mraise\u001b[39;00m \u001b[38;5;167;01mValueError\u001b[39;00m(\u001b[33m\"\u001b[39m\u001b[33mN should be positive\u001b[39m\u001b[33m\"\u001b[39m)\n",
      "\u001b[31mValueError\u001b[39m: N should be positive"
     ]
    }
   ],
   "source": [
    "n=-3\n",
    "if n<0:\n",
    "    raise ValueError(\"N should be positive\")\n",
    "\n"
   ]
  },
  {
   "cell_type": "code",
   "execution_count": 93,
   "id": "246f7bdc",
   "metadata": {},
   "outputs": [
    {
     "name": "stdout",
     "output_type": "stream",
     "text": [
      "Error: N should be positive\n"
     ]
    }
   ],
   "source": [
    "try:\n",
    "    n = -1\n",
    "    if n < 0:\n",
    "        raise ValueError(\"N should be positive\")\n",
    "    else:\n",
    "        raise Exception(\"Our condition is true\")\n",
    "except ValueError as e:\n",
    "    print(\"Error:\", e)\n",
    "except Exception as e:\n",
    "    print(\"Error:\", e)"
   ]
  },
  {
   "cell_type": "code",
   "execution_count": null,
   "id": "9b7f22e2",
   "metadata": {},
   "outputs": [
    {
     "name": "stdout",
     "output_type": "stream",
     "text": [
      "4\n"
     ]
    }
   ],
   "source": [
    "def Mahesh(li,index):\n",
    "    if index>=len(li):\n",
    "        raise IndexError(\"Index out of range\")\n",
    "    return li[index]\n",
    "\n",
    "try:\n",
    "    a=Mahesh([1,2,3,4,5],3)\n",
    "    print(a)\n",
    "\n",
    "except IndexError as i:\n",
    "    print(\"Found erroe\",i)\n",
    "\n",
    "\n"
   ]
  },
  {
   "cell_type": "code",
   "execution_count": 105,
   "id": "a9945fa1",
   "metadata": {},
   "outputs": [
    {
     "name": "stdout",
     "output_type": "stream",
     "text": [
      "[2, 5] [3, 4] [4, 3] [5, 2]\n"
     ]
    }
   ],
   "source": [
    "def Twosum(li, target):\n",
    "    ans1 = []\n",
    "    for i in range(0, len(li)):\n",
    "        for j in range(0, len(li)):\n",
    "            if li[i] + li[j] == target:\n",
    "                ans1.append([li[i], li[j]])\n",
    "    return ans1\n",
    "\n",
    "try:\n",
    "    ans = Twosum([1, 2, 3, 4, 5], 7)\n",
    "    print(*ans)\n",
    "except ValueError as e:\n",
    "    print(\"No elements are found\", e)"
   ]
  },
  {
   "cell_type": "code",
   "execution_count": 109,
   "id": "b210948c",
   "metadata": {},
   "outputs": [
    {
     "name": "stdout",
     "output_type": "stream",
     "text": [
      "raise Typeerror  Both argumets must be same\n"
     ]
    }
   ],
   "source": [
    "def Multi(a,b):\n",
    "    if not isinstance(a,(int,float)) or not isinstance(b,(int,float)):\n",
    "        raise TypeError(\"Both argumets must be same\")\n",
    "    return a+b\n",
    "\n",
    "try:\n",
    "    ans=Multi(3,\"mahi\")\n",
    "    print(ans)\n",
    "except TypeError as e:\n",
    "    print(\"raise Typeerror \",e)"
   ]
  },
  {
   "cell_type": "code",
   "execution_count": 119,
   "id": "e37610b7",
   "metadata": {},
   "outputs": [
    {
     "name": "stdout",
     "output_type": "stream",
     "text": [
      "All are valid\n"
     ]
    }
   ],
   "source": [
    "import random\n",
    "\n",
    "def tarak(li):\n",
    "\n",
    "    for i in li:\n",
    "        if i<0 or i>100 and type(i)=='int':\n",
    "            raise ValueError(\"Values must be in the range\")\n",
    "    return \"All are valid\"\n",
    "\n",
    "try:\n",
    "    ans=tarak([random.random()])\n",
    "    print(ans)\n",
    "except ValueError as e:\n",
    "    print(\"Value error raised\",e)"
   ]
  },
  {
   "cell_type": "code",
   "execution_count": 120,
   "id": "9500c072",
   "metadata": {},
   "outputs": [
    {
     "name": "stdout",
     "output_type": "stream",
     "text": [
      "10.0\n",
      "5.0\n",
      "1.6666666666666667\n",
      "Hello world\n"
     ]
    },
    {
     "ename": "ValueError",
     "evalue": "ValueError",
     "output_type": "error",
     "traceback": [
      "\u001b[31m---------------------------------------------------------------------------\u001b[39m",
      "\u001b[31mValueError\u001b[39m                                Traceback (most recent call last)",
      "\u001b[36mCell\u001b[39m\u001b[36m \u001b[39m\u001b[32mIn[120]\u001b[39m\u001b[32m, line 5\u001b[39m\n\u001b[32m      4\u001b[39m \u001b[38;5;28;01mtry\u001b[39;00m:\n\u001b[32m----> \u001b[39m\u001b[32m5\u001b[39m     \u001b[38;5;28mprint\u001b[39m(\u001b[32m10\u001b[39m/\u001b[38;5;28;43mint\u001b[39;49m\u001b[43m(\u001b[49m\u001b[43mi\u001b[49m\u001b[43m)\u001b[49m)\n\u001b[32m      6\u001b[39m \u001b[38;5;28;01mexcept\u001b[39;00m \u001b[38;5;167;01mZeroDivisionError\u001b[39;00m \u001b[38;5;28;01mas\u001b[39;00m e:\n",
      "\u001b[31mValueError\u001b[39m: invalid literal for int() with base 10: 'Hello'",
      "\nDuring handling of the above exception, another exception occurred:\n",
      "\u001b[31mValueError\u001b[39m                                Traceback (most recent call last)",
      "\u001b[36mCell\u001b[39m\u001b[36m \u001b[39m\u001b[32mIn[120]\u001b[39m\u001b[32m, line 10\u001b[39m\n\u001b[32m      8\u001b[39m \u001b[38;5;28;01mexcept\u001b[39;00m \u001b[38;5;167;01mValueError\u001b[39;00m \u001b[38;5;28;01mas\u001b[39;00m e:\n\u001b[32m      9\u001b[39m     \u001b[38;5;28mprint\u001b[39m(\u001b[33m\"\u001b[39m\u001b[33mHello world\u001b[39m\u001b[33m\"\u001b[39m)\n\u001b[32m---> \u001b[39m\u001b[32m10\u001b[39m     \u001b[38;5;28;01mraise\u001b[39;00m \u001b[38;5;167;01mValueError\u001b[39;00m(\u001b[33m\"\u001b[39m\u001b[33mValueError\u001b[39m\u001b[33m\"\u001b[39m)  \u001b[38;5;66;03m# reraising-exception\u001b[39;00m\n\u001b[32m     12\u001b[39m \u001b[38;5;28;01mexcept\u001b[39;00m \u001b[38;5;167;01mException\u001b[39;00m \u001b[38;5;28;01mas\u001b[39;00m e:\n\u001b[32m     13\u001b[39m     \u001b[38;5;28mprint\u001b[39m(e)\n",
      "\u001b[31mValueError\u001b[39m: ValueError"
     ]
    }
   ],
   "source": [
    "li=[1,2,6,0,'Hello',2]\n",
    "\n",
    "for i in li:\n",
    "    try:\n",
    "        print(10/int(i))\n",
    "    except ZeroDivisionError as e:\n",
    "        pass\n",
    "    except ValueError as e:\n",
    "        print(\"Hello world\")\n",
    "        raise ValueError(\"ValueError\")  # reraising-exception\n",
    "    \n",
    "    except Exception as e:\n",
    "        print(e)"
   ]
  },
  {
   "cell_type": "markdown",
   "id": "5df7feb1",
   "metadata": {},
   "source": [
    "# Nested Try"
   ]
  },
  {
   "cell_type": "code",
   "execution_count": null,
   "id": "02a9fa14",
   "metadata": {},
   "outputs": [
    {
     "name": "stdout",
     "output_type": "stream",
     "text": [
      "Outer try block\n",
      "Inner try block\n",
      "Inner except block: ZeroDivisionError: division by zero\n",
      "Inner finally block\n",
      "Outer finally block\n"
     ]
    }
   ],
   "source": [
    "# create nested without any error\n",
    "try:\n",
    "    print(\"Outer try block\")\n",
    "    try:\n",
    "        print(\"Inner try block\")\n",
    "        result = 10 / 0  # This will raise a ZeroDivisionError\n",
    "    except ZeroDivisionError as e:\n",
    "        print(\"Inner except block: ZeroDivisionError:\", e)\n",
    "    finally:\n",
    "        print(\"Inner finally block\")\n",
    "except Exception as e:\n",
    "    print(\"Outer except block: Exception:\", e)\n",
    "finally:\n",
    "    print(\"Outer finally block\")"
   ]
  },
  {
   "cell_type": "code",
   "execution_count": 128,
   "id": "3eb716d6",
   "metadata": {},
   "outputs": [
    {
     "name": "stdout",
     "output_type": "stream",
     "text": [
      "Outer except block: ValueError: division by zero\n",
      "Outer finally block\n"
     ]
    }
   ],
   "source": [
    "# Error in outer try block\n",
    "try:\n",
    "    print(10/0)\n",
    "\n",
    "    try:\n",
    "\n",
    "        print(\"Inner try block\")\n",
    "        print(10/0)\n",
    "    except Exception as e:\n",
    "        print(\"Inner except block:\", e)\n",
    "    finally:\n",
    "        print(\"Inner finally block\")\n",
    "except ZeroDivisionError as e:\n",
    "    print(\"Outer except block: ValueError:\", e)\n",
    "finally:\n",
    "    print(\"Outer finally block\")"
   ]
  },
  {
   "cell_type": "code",
   "execution_count": 130,
   "id": "d3c6c95e",
   "metadata": {},
   "outputs": [
    {
     "name": "stdout",
     "output_type": "stream",
     "text": [
      "Hello world\n",
      "Inner except block: division by zero\n",
      "Inner finally block\n",
      "Outer finally block\n"
     ]
    }
   ],
   "source": [
    "# error inside try bloc\n",
    "try:\n",
    "    \n",
    "    print(\"Hello world\")\n",
    "    try:\n",
    "\n",
    "        print(10/0)\n",
    "    except Exception as e:\n",
    "        print(\"Inner except block:\", e)\n",
    "    finally:\n",
    "        print(\"Inner finally block\")\n",
    "except ZeroDivisionError as e:\n",
    "    print(\"Outer except block: ValueError:\", e)\n",
    "finally:\n",
    "    print(\"Outer finally block\")"
   ]
  },
  {
   "cell_type": "code",
   "execution_count": null,
   "id": "15ac9983",
   "metadata": {},
   "outputs": [
    {
     "name": "stdout",
     "output_type": "stream",
     "text": [
      "Hello world\n",
      "Inner try block\n",
      "Inner finally block\n",
      "Outer except block: ValueError: division by zero\n",
      "Outer finally block\n"
     ]
    }
   ],
   "source": [
    "# without except block inside try block it will run outside expect block\n",
    "try:\n",
    "    # 1.print(10/0)\n",
    "    print(\"Hello world\")\n",
    "    try:\n",
    "\n",
    "        print(\"Inner try block\")\n",
    "        print(10/0)\n",
    "    except Exception as e:\n",
    "        print(\"Inner except block:\", e)\n",
    "    finally:\n",
    "        print(\"Inner finally block\")\n",
    "except ZeroDivisionError as e:\n",
    "    print(\"Outer except block: ValueError:\", e)\n",
    "finally:\n",
    "    print(\"Outer finally block\")"
   ]
  },
  {
   "cell_type": "code",
   "execution_count": 3,
   "id": "60ad6240",
   "metadata": {},
   "outputs": [
    {
     "name": "stdout",
     "output_type": "stream",
     "text": [
      "Cought custom error NUmber must be positive\n"
     ]
    }
   ],
   "source": [
    "# user defined function\n",
    "\n",
    "# step 1 define a custom exception by inherting from exception\n",
    "\n",
    "class CustomError(Exception):\n",
    "    pass\n",
    "\n",
    "# strp 2 use it in a function or logic\n",
    "\n",
    "def check_positive(number):\n",
    "    if number<0:\n",
    "        raise CustomError(\"NUmber must be positive\")\n",
    "    else:\n",
    "        print(\"VAlid namuner\",number)\n",
    "\n",
    "# step 3 handling using try except\n",
    "\n",
    "try:\n",
    "    num=int(input(\"Enter the number:\"))\n",
    "    check_positive(num)\n",
    "except CustomError as e:\n",
    "    print(\"Cought custom error\",e)\n"
   ]
  },
  {
   "cell_type": "code",
   "execution_count": 15,
   "id": "d5074e96",
   "metadata": {},
   "outputs": [
    {
     "ename": "ValueError",
     "evalue": "invalid literal for int() with base 10: 'u'",
     "output_type": "error",
     "traceback": [
      "\u001b[31m---------------------------------------------------------------------------\u001b[39m",
      "\u001b[31mValueError\u001b[39m                                Traceback (most recent call last)",
      "\u001b[36mCell\u001b[39m\u001b[36m \u001b[39m\u001b[32mIn[15]\u001b[39m\u001b[32m, line 22\u001b[39m\n\u001b[32m     19\u001b[39m         logging.error(\u001b[33m\"\u001b[39m\u001b[33mException: \u001b[39m\u001b[38;5;132;01m%s\u001b[39;00m\u001b[33m\"\u001b[39m, e)\n\u001b[32m     21\u001b[39m \u001b[38;5;66;03m# Example usage\u001b[39;00m\n\u001b[32m---> \u001b[39m\u001b[32m22\u001b[39m a = \u001b[38;5;28;43mint\u001b[39;49m\u001b[43m(\u001b[49m\u001b[38;5;28;43minput\u001b[39;49m\u001b[43m(\u001b[49m\u001b[33;43m\"\u001b[39;49m\u001b[33;43mEnter the number:\u001b[39;49m\u001b[33;43m\"\u001b[39;49m\u001b[43m)\u001b[49m\u001b[43m)\u001b[49m  \u001b[38;5;66;03m# Replace with desired value\u001b[39;00m\n\u001b[32m     23\u001b[39m b = \u001b[38;5;28mint\u001b[39m(\u001b[38;5;28minput\u001b[39m(\u001b[33m\"\u001b[39m\u001b[33mEnter the value\u001b[39m\u001b[33m\"\u001b[39m)) \u001b[38;5;66;03m# Replace with desired value\u001b[39;00m\n\u001b[32m     24\u001b[39m Mahesh(a, b)\n",
      "\u001b[31mValueError\u001b[39m: invalid literal for int() with base 10: 'u'"
     ]
    }
   ],
   "source": [
    "import logging\n",
    "\n",
    "logging.basicConfig(filename='error.log', level=logging.ERROR)\n",
    "\n",
    "def Mahesh(a, b, c=100):\n",
    "    try:\n",
    "        # Ensure a and b are integers\n",
    "        if isinstance(a, int) and isinstance(b, int):\n",
    "            print(a + b + c)\n",
    "        else:\n",
    "            raise ValueError(\"All values should be integers\")\n",
    "\n",
    "    except ValueError as ve:\n",
    "        print(\"ValueError:\", ve)\n",
    "        logging.error(\"ValueError: %s\", ve)\n",
    "\n",
    "    except Exception as e:\n",
    "        print(\"An unexpected error occurred:\", e)\n",
    "        logging.error(\"Exception: %s\", e)\n",
    "\n",
    "# Example usage\n",
    "a = int(input(\"Enter the number:\"))  # Replace with desired value\n",
    "b = int(input(\"Enter the value\")) # Replace with desired value\n",
    "Mahesh(a, b)"
   ]
  },
  {
   "cell_type": "markdown",
   "id": "af17a570",
   "metadata": {},
   "source": [
    "# TASKS"
   ]
  },
  {
   "cell_type": "code",
   "execution_count": 17,
   "id": "5be346a8",
   "metadata": {},
   "outputs": [
    {
     "name": "stdout",
     "output_type": "stream",
     "text": [
      "Error raise :  division by zero\n"
     ]
    }
   ],
   "source": [
    "def mahi(a,b):\n",
    "\n",
    "    try:\n",
    "        print(a/b)\n",
    "    except ZeroDivisionError as e:\n",
    "        print(\"Error raise : \",e)\n",
    "\n",
    "a=int(input(\"Enter the number:\"))\n",
    "b=int(input(\"Enter the number:\"))\n",
    "mahi(a,b)"
   ]
  },
  {
   "cell_type": "code",
   "execution_count": 23,
   "id": "5da99df6",
   "metadata": {},
   "outputs": [
    {
     "name": "stdout",
     "output_type": "stream",
     "text": [
      "Error raise :  [Errno 2] No such file or directory: 'mahi.txt'\n"
     ]
    }
   ],
   "source": [
    "def mahi():\n",
    "\n",
    "    try:\n",
    "        with open(\"mahi.txt\",'r') as file:\n",
    "            j=json.dumps(file)\n",
    "        \n",
    "    except FileNotFoundError as e:\n",
    "        print(\"Error raise : \",e)\n",
    "\n",
    "\n",
    "mahi()"
   ]
  },
  {
   "cell_type": "code",
   "execution_count": 54,
   "id": "87d44246",
   "metadata": {},
   "outputs": [
    {
     "name": "stdout",
     "output_type": "stream",
     "text": [
      "List: [94, 90, 49, 25, 31]\n",
      "Index: 7\n",
      "Result: IndexError raised: list index out of range\n"
     ]
    }
   ],
   "source": [
    "import random\n",
    "\n",
    "def mahi(li, index):\n",
    "    try:\n",
    "        # if index < len(li):\n",
    "            print(li[index])\n",
    "        \n",
    "    except IndexError as e:\n",
    "        return f\"IndexError raised: {e}\"\n",
    "\n",
    "# Flat list, not a nested one\n",
    "li = random.sample(range(1, 100), 5)\n",
    "index = random.randint(1, 10)\n",
    "print(\"List:\", li)\n",
    "print(\"Index:\", index)\n",
    "result = mahi(li, index)\n",
    "print(\"Result:\", result)\n"
   ]
  },
  {
   "cell_type": "code",
   "execution_count": 59,
   "id": "c9d0c76c",
   "metadata": {},
   "outputs": [
    {
     "name": "stdout",
     "output_type": "stream",
     "text": [
      "TypeError raised: unsupported operand type(s) for +: 'int' and 'str'\n"
     ]
    }
   ],
   "source": [
    "def mahi(a, b):\n",
    "    try:\n",
    "        return a + b\n",
    "    \n",
    "    except TypeError as e:  # Adding TypeError to handle incompatible types\n",
    "        return f\"TypeError raised: {e}\"\n",
    "\n",
    "result = mahi(a, b)\n",
    "print(result)"
   ]
  },
  {
   "cell_type": "code",
   "execution_count": 63,
   "id": "bcfc9cb6",
   "metadata": {},
   "outputs": [
    {
     "name": "stdout",
     "output_type": "stream",
     "text": [
      "Value Error: invalid literal for int() with base 10: 'aaa'\n"
     ]
    }
   ],
   "source": [
    "def mahi(a):\n",
    "    try:\n",
    "        a=int(a)\n",
    "        print(a)\n",
    "\n",
    "    \n",
    "    except ValueError as e:  # Adding TypeError to handle incompatible types\n",
    "        return f\"Value Error: {e}\"\n",
    "a=input(\"Enter the input\")\n",
    "result = mahi(a)\n",
    "print(result)"
   ]
  },
  {
   "cell_type": "code",
   "execution_count": null,
   "id": "eb9f3b1c",
   "metadata": {},
   "outputs": [
    {
     "name": "stdout",
     "output_type": "stream",
     "text": [
      "<_io.TextIOWrapper name='jjjjj' mode='x' encoding='cp1252'>\n"
     ]
    }
   ],
   "source": [
    "import os\n",
    "def Mahesh():\n",
    "    try:\n",
    "        with open(\"jjjjj\",'x') as f:\n",
    "            print(f)\n",
    "    except FileExistsError as e:\n",
    "        return f\"error raise: {e}\"\n",
    "\n",
    "Mahesh()"
   ]
  },
  {
   "cell_type": "code",
   "execution_count": null,
   "id": "35021887",
   "metadata": {},
   "outputs": [],
   "source": [
    "def Mahesh():\n",
    "    try:\n",
    "        b=int(input())\n",
    "            \n",
    "    except KeyboardInterrupt as e:\n",
    "        return f\"error raise: {e}\"\n",
    "\n",
    "Mahesh()"
   ]
  },
  {
   "cell_type": "code",
   "execution_count": 6,
   "id": "c1841000",
   "metadata": {},
   "outputs": [
    {
     "name": "stdout",
     "output_type": "stream",
     "text": [
      "2\n",
      "[3]\n",
      "Mahesh\n"
     ]
    }
   ],
   "source": [
    "def Mahi():\n",
    "\n",
    "    try:\n",
    "        with open(\"temp.txt\",'r') as f:\n",
    "            f.read()\n",
    "\n",
    "        try:\n",
    "            a=1\n",
    "            b=2\n",
    "            print(a*b)\n",
    "\n",
    "            try:\n",
    "                l=[1,2,3,4,5]\n",
    "                print([3])\n",
    "\n",
    "                try:\n",
    "\n",
    "                    ditt={\"Name\":\"Mahesh\",\"Collage\":\"Lpu\"}\n",
    "                    print(ditt['Name'])\n",
    "                except KeyError as e:\n",
    "                    print(\" key Error raise: \",e)\n",
    "            except IndexError as e:\n",
    "                print(\"Index error raised\")\n",
    "        except ValueError as e:\n",
    "            print(\"Value error raised \",e)\n",
    "    except FileNotFoundError as e:\n",
    "        print(\"File not found error\",e)\n",
    "            \n",
    "\n",
    "\n",
    "\n",
    "Mahi()"
   ]
  },
  {
   "cell_type": "code",
   "execution_count": 9,
   "id": "df54904d",
   "metadata": {},
   "outputs": [
    {
     "name": "stdout",
     "output_type": "stream",
     "text": [
      "Error: Division by zero is not allowed.\n",
      "Execution of the try-except-else-finally block is complete.\n"
     ]
    }
   ],
   "source": [
    "def divide_numbers(a, b):\n",
    "    try:\n",
    "        result = a / b\n",
    "    except ZeroDivisionError as e:\n",
    "        print(\"Error: Division by zero is not allowed.\")\n",
    "    else:\n",
    "        print(f\"Division successful. Result: {result}\")\n",
    "    finally:\n",
    "        print(\"Execution of the try-except-else-finally block is complete.\")\n",
    "\n",
    "# Example usage\n",
    "a = int(input(\"Enter the numerator: \"))\n",
    "b = int(input(\"Enter the denominator: \"))\n",
    "divide_numbers(a, b)"
   ]
  },
  {
   "cell_type": "code",
   "execution_count": 12,
   "id": "cac69eff",
   "metadata": {},
   "outputs": [
    {
     "name": "stdout",
     "output_type": "stream",
     "text": [
      "Negative number is not allowed\n",
      "Program succesfully completed\n"
     ]
    }
   ],
   "source": [
    "def divide_numbers(a):\n",
    "    try:\n",
    "        if(a<0):\n",
    "            raise \"Negative number not allowed\"\n",
    "        \n",
    "    except:\n",
    "        print(\"Negative number is not allowed\")\n",
    "    else:\n",
    "        print(\"Our input is correct\")\n",
    "    finally:\n",
    "        print(\"Program succesfully completed\")\n",
    "    \n",
    "    \n",
    "\n",
    "# Example usage\n",
    "a = int(input(\"Enter the numerator: \"))\n",
    "\n",
    "divide_numbers(a)"
   ]
  },
  {
   "cell_type": "code",
   "execution_count": 13,
   "id": "6e1ed7af",
   "metadata": {},
   "outputs": [
    {
     "name": "stdout",
     "output_type": "stream",
     "text": [
      "Name: mahi, Age: 18, Email: hmm@gmail.com\n"
     ]
    }
   ],
   "source": [
    "def mahi(name, age, email):\n",
    "    try:\n",
    "        if not name or not isinstance(name, str):\n",
    "            raise ValueError(\"Name must be a non-empty string.\")\n",
    "        if age <= 0:\n",
    "            raise ValueError(\"Age must be a positive integer.\")\n",
    "        if \"@\" not in email or \".\" not in email:\n",
    "            raise ValueError(\"Invalid email format.\")\n",
    "        print(f\"Name: {name}, Age: {age}, Email: {email}\")\n",
    "    except ValueError as e:\n",
    "        print(f\"Error: {e}\")\n",
    "\n",
    "name = input(\"Enter the name: \")\n",
    "age = int(input(\"Enter the age: \"))\n",
    "email = input(\"Enter the email: \")\n",
    "\n",
    "mahi(name, age, email)"
   ]
  },
  {
   "cell_type": "code",
   "execution_count": null,
   "id": "826c5822",
   "metadata": {},
   "outputs": [
    {
     "name": "stdout",
     "output_type": "stream",
     "text": [
      "Generated Password: \\L3AUO7M?Y?h\n",
      "✅ Password is valid!\n",
      "Exceuted succesully\n"
     ]
    }
   ],
   "source": [
    "import random\n",
    "import string\n",
    "\n",
    "def Mahesh(name,password):\n",
    "    try:\n",
    "        li=[\"mahesh\",\"tarak\",\"Prem\"]\n",
    "        if name in li:\n",
    "            raise \"Name is allready in the database\"\n",
    "    except:\n",
    "        print(\"User name is allready there\")\n",
    "\n",
    "    finally:\n",
    "\n",
    "        print(\"Exceuted succesully\")\n",
    "\n",
    "def generate_random_password(length=12):\n",
    "    should_be_strong = random.choice([True, False])  \n",
    "\n",
    "    all_chars = string.ascii_letters + string.digits + string.punctuation\n",
    "\n",
    "    if should_be_strong:\n",
    "        # Ensure one of each type\n",
    "        upper = random.choice(string.ascii_uppercase)\n",
    "        lower = random.choice(string.ascii_lowercase)\n",
    "        digit = random.choice(string.digits)\n",
    "        special = random.choice(string.punctuation)\n",
    "        remaining = random.choices(all_chars, k=length - 4)\n",
    "        password = list(upper + lower + digit + special + ''.join(remaining))\n",
    "    else:\n",
    "       \n",
    "        char_sets = [\n",
    "            string.ascii_lowercase,\n",
    "            string.ascii_uppercase,\n",
    "            string.digits,\n",
    "            string.punctuation\n",
    "        ]\n",
    "        # Randomly remove 1 or 2 types\n",
    "        to_omit = random.sample(char_sets, random.choice([1, 2]))\n",
    "        allowed = ''.join(set(all_chars) - set(''.join(to_omit)))\n",
    "        password = random.choices(allowed, k=length)\n",
    "\n",
    "    random.shuffle(password)\n",
    "    return ''.join(password)\n",
    "\n",
    "def validate_password(password):\n",
    "    has_upper = any(c.isupper() for c in password)\n",
    "    has_lower = any(c.islower() for c in password)\n",
    "    has_digit = any(c.isdigit() for c in password)\n",
    "    has_special = any(c in string.punctuation for c in password)\n",
    "\n",
    "    if has_upper and has_lower and has_digit and has_special:\n",
    "        return \"Password is valid!\"\n",
    "    else:\n",
    "        return \"Password is not valid\"\n",
    "\n",
    "# Test example\n",
    "for _ in range(1):  \n",
    "    name=input(\"Enter the name:\")\n",
    "    pwd = generate_random_password(12)\n",
    "    print(\"Generated Password:\", pwd)\n",
    "    print(validate_password(pwd))\n",
    "    out=Mahesh(name,pwd)\n",
    "    \n"
   ]
  },
  {
   "cell_type": "code",
   "execution_count": null,
   "id": "ea9c896b",
   "metadata": {},
   "outputs": [
    {
     "name": "stdout",
     "output_type": "stream",
     "text": [
      "Deposit successful. New Balance: ₹2000\n"
     ]
    }
   ],
   "source": [
    "def CheckAmount(bankbalance):\n",
    "    return f\"Current Balance: ₹{bankbalance}\"\n",
    "\n",
    "def Deposit(bankbalance, amount):\n",
    "    bankbalance += amount\n",
    "    return bankbalance\n",
    "\n",
    "def WithDraw(bankbalance, wamount):\n",
    "    try:\n",
    "        if wamount > bankbalance:\n",
    "            raise ValueError(\"Insufficient balance.\")\n",
    "        elif wamount < 500:\n",
    "            raise ValueError(\"You can't withdraw less than ₹500 at a time.\")\n",
    "        else:\n",
    "            bankbalance -= wamount\n",
    "            return bankbalance\n",
    "    except ValueError as e:\n",
    "        return f\"Error: {e}\"\n",
    "\n",
    "bankbalance = 1000\n",
    "\n",
    "\n",
    "for i in range(1):\n",
    "    option = input(\"Enter the user option (Deposit, WithDraw, CheckAmount): \")\n",
    "\n",
    "    if option == \"Deposit\":\n",
    "        amount = int(input(\"Enter the amount: \"))\n",
    "        bankbalance = Deposit(bankbalance, amount)\n",
    "        print(f\"Deposit successful. New Balance: ₹{bankbalance}\")\n",
    "\n",
    "    elif option == \"WithDraw\":\n",
    "        amount = int(input(\"Enter the amount: \"))\n",
    "        result = WithDraw(bankbalance, amount)\n",
    "        if isinstance(result, int):\n",
    "            bankbalance = result\n",
    "            print(f\"Withdraw successful. New Balance: ₹{bankbalance}\")\n",
    "        else:\n",
    "            print(result)\n",
    "\n",
    "    elif option == \"CheckAmount\":\n",
    "        print(CheckAmount(bankbalance))\n",
    "\n",
    "    else:\n",
    "        print(\"Invalid option. Please try again.\")\n"
   ]
  },
  {
   "cell_type": "code",
   "execution_count": null,
   "id": "08e8e78a",
   "metadata": {},
   "outputs": [],
   "source": [
    "\n",
    "class Invalid(Exception):\n",
    "    pass\n",
    "def Mahesh()\n",
    "    \n",
    "    \n",
    "    try:\n",
    "\n",
    "        mark=int(input(\"Enter the marks\"))\n",
    "\n",
    "        if(mark>0 and mark<100):\n",
    "\n",
    "            print(\"Proper entry\")\n",
    "        else:\n",
    "            raise \"Invalid\"(\"Input should be between 0 and 100\")\n",
    "    except:\n",
    "        print(\"Input should be between 0 and 100\")\n",
    "\n",
    "Mahesh()\n"
   ]
  },
  {
   "cell_type": "code",
   "execution_count": 20,
   "id": "cea5b1ab",
   "metadata": {},
   "outputs": [
    {
     "name": "stdout",
     "output_type": "stream",
     "text": [
      "Converted Time: 1 hours, 0 minutes, 0 seconds\n"
     ]
    }
   ],
   "source": [
    "def convert_seconds(seconds):\n",
    "    hours = seconds // 3600\n",
    "    minutes = (seconds % 3600) // 60\n",
    "    \n",
    "    secs = seconds % 60\n",
    "    return f\"{hours} hours, {minutes} minutes, {secs} seconds\"\n",
    "\n",
    "# Example\n",
    "total_seconds = int(input(\"Enter total seconds: \"))\n",
    "converted_time = convert_seconds(total_seconds)\n",
    "print(\"Converted Time:\", converted_time)\n"
   ]
  }
 ],
 "metadata": {
  "kernelspec": {
   "display_name": "Python 3",
   "language": "python",
   "name": "python3"
  },
  "language_info": {
   "codemirror_mode": {
    "name": "ipython",
    "version": 3
   },
   "file_extension": ".py",
   "mimetype": "text/x-python",
   "name": "python",
   "nbconvert_exporter": "python",
   "pygments_lexer": "ipython3",
   "version": "3.12.3"
  }
 },
 "nbformat": 4,
 "nbformat_minor": 5
}
