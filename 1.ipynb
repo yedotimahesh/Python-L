{
 "cells": [
  {
   "cell_type": "code",
   "execution_count": 1,
   "metadata": {},
   "outputs": [
    {
     "name": "stdout",
     "output_type": "stream",
     "text": [
      "Hello\n"
     ]
    }
   ],
   "source": [
    "print(\"Hello\")"
   ]
  },
  {
   "cell_type": "code",
   "execution_count": 5,
   "metadata": {},
   "outputs": [
    {
     "name": "stdout",
     "output_type": "stream",
     "text": [
      "(1, 2, 3, 4)\n",
      "('abc', 10, 12.5)\n"
     ]
    }
   ],
   "source": [
    "a=1,2,3,4\n",
    "print(a)\n",
    "b='abc',10,12.5\n",
    "print(b)"
   ]
  },
  {
   "cell_type": "code",
   "execution_count": 6,
   "metadata": {},
   "outputs": [
    {
     "name": "stdout",
     "output_type": "stream",
     "text": [
      "abc 10 12.5\n"
     ]
    }
   ],
   "source": [
    "x,y,z=b\n",
    "print(x,y,z)"
   ]
  },
  {
   "cell_type": "code",
   "execution_count": 2,
   "metadata": {},
   "outputs": [
    {
     "name": "stdout",
     "output_type": "stream",
     "text": [
      "10.0\n"
     ]
    }
   ],
   "source": [
    "#area of triangle\n",
    "h=int(input(\"Enter the height:\"))\n",
    "b=int(input(\"Enter the breadth:\"))\n",
    "out=(1/2)*b*h\n",
    "print(out)\n"
   ]
  },
  {
   "cell_type": "code",
   "execution_count": 4,
   "metadata": {},
   "outputs": [
    {
     "name": "stdout",
     "output_type": "stream",
     "text": [
      "10°C in Fahrenheit is 50.0°F\n"
     ]
    }
   ],
   "source": [
    "#celcius to faranheat\n",
    "\n",
    "cel=int(input(\"Enter the input\"))\n",
    "far = (cel * 9/5) + 32 \n",
    "print(f\"{cel}°C in Fahrenheit is {far}°F\")\n"
   ]
  },
  {
   "cell_type": "code",
   "execution_count": 9,
   "metadata": {},
   "outputs": [
    {
     "name": "stdout",
     "output_type": "stream",
     "text": [
      "Mahesh will get after 2 years 1040.0\n"
     ]
    }
   ],
   "source": [
    "name=\"Mahesh\"\n",
    "p=int(input(\"Enter the principle amount\"))\n",
    "r=int(input(\"Enter the rate of intrest\"))\n",
    "t=int(input(\"Enter the time\"))\n",
    "out=(p*r*t)/100\n",
    "print(f\"{name} will get after {t} years {p+out}\")"
   ]
  },
  {
   "cell_type": "code",
   "execution_count": 12,
   "metadata": {},
   "outputs": [
    {
     "name": "stdout",
     "output_type": "stream",
     "text": [
      "Mahesh will get after 4 years 146420000.0\n"
     ]
    }
   ],
   "source": [
    "name=\"Mahesh\"\n",
    "p=int(input(\"Enter the principle amount\"))\n",
    "r=int(input(\"Enter the rate of intrest\"))\n",
    "t=int(input(\"Enter the time\"))\n",
    "n=int(input(\"Enter the nmo of times per year\"))\n",
    "out=p*(1+r/n)**(n*t)\n",
    "print(f\"{name} will get after {t} years {p+out}\")"
   ]
  },
  {
   "cell_type": "code",
   "execution_count": 13,
   "metadata": {},
   "outputs": [
    {
     "name": "stdout",
     "output_type": "stream",
     "text": [
      "Lowercase: my name is mahesh\n",
      "Uppercase: MY NAME IS MAHESH\n",
      "Title Case: My Name Is Mahesh\n",
      "Capitalize: My name is mahesh\n",
      "Swap Case: MY NAME IS MAHESH\n",
      "Length: 17\n",
      "Is Alphanumeric: False\n",
      "Is Alphabetic: False\n",
      "Is Numeric: False\n",
      "Starts with 'mahesh': False\n",
      "Ends with ' my name is tarak': False\n",
      "Index of 'mahesh': 11\n",
      "Replaced String: my name is ggg\n",
      "Trimmed: my name is mahesh\n",
      "Split String: ['my', 'name', 'is', 'mahesh']\n",
      "Join Words: my name is mahesh\n",
      "Is Space: False\n",
      "Is Lowercase: True\n",
      "Is Uppercase: False\n",
      "Occurrences of 'aaaaa': 0\n",
      "Leading Spaces Removed: my name is mahesh\n",
      "Trailing Spaces Removed: my name is mahesh\n"
     ]
    }
   ],
   "source": [
    "# Input string from the user\n",
    "user_input = input(\"Enter a string: \")\n",
    "\n",
    "# 1. Lowercase\n",
    "print(f\"Lowercase: {user_input.lower()}\")\n",
    "\n",
    "# 2. Uppercase\n",
    "print(f\"Uppercase: {user_input.upper()}\")\n",
    "\n",
    "# 3. Title Case (First letter of each word capitalized)\n",
    "print(f\"Title Case: {user_input.title()}\")\n",
    "\n",
    "# 4. Capitalize (First letter of the string capitalized)\n",
    "print(f\"Capitalize: {user_input.capitalize()}\")\n",
    "\n",
    "# 5. Swap Case (Lowercase becomes uppercase, and vice versa)\n",
    "print(f\"Swap Case: {user_input.swapcase()}\")\n",
    "\n",
    "# 6. Length of the string\n",
    "print(f\"Length: {len(user_input)}\")\n",
    "\n",
    "# 7. Checking if the string is alphanumeric (contains only letters and numbers)\n",
    "print(f\"Is Alphanumeric: {user_input.isalnum()}\")\n",
    "\n",
    "# 8. Checking if the string is alphabetic\n",
    "print(f\"Is Alphabetic: {user_input.isalpha()}\")\n",
    "\n",
    "# 9. Checking if the string is numeric\n",
    "print(f\"Is Numeric: {user_input.isnumeric()}\")\n",
    "\n",
    "# 10. Check if string starts with a specific substring\n",
    "substring = input(\"Enter a substring to check if the string starts with it: \")\n",
    "print(f\"Starts with '{substring}': {user_input.startswith(substring)}\")\n",
    "\n",
    "# 11. Check if string ends with a specific substring\n",
    "substring_end = input(\"Enter a substring to check if the string ends with it: \")\n",
    "print(f\"Ends with '{substring_end}': {user_input.endswith(substring_end)}\")\n",
    "\n",
    "# 12. Find the index of the first occurrence of a substring\n",
    "substring_find = input(\"Enter a substring to find its index: \")\n",
    "print(f\"Index of '{substring_find}': {user_input.find(substring_find)}\")\n",
    "\n",
    "# 13. Replace a substring with another\n",
    "substring_replace = input(\"Enter a substring to replace: \")\n",
    "replacement = input(\"Enter the replacement string: \")\n",
    "print(f\"Replaced String: {user_input.replace(substring_replace, replacement)}\")\n",
    "\n",
    "# 14. Remove whitespace from the beginning and end of the string\n",
    "print(f\"Trimmed: {user_input.strip()}\")\n",
    "\n",
    "# 15. Split the string into a list\n",
    "print(f\"Split String: {user_input.split()}\")\n",
    "\n",
    "# 16. Join a list of strings into a single string (example with space separator)\n",
    "words = user_input.split()\n",
    "print(f\"Join Words: {' '.join(words)}\")\n",
    "\n",
    "# 17. Check if the string contains only spaces\n",
    "print(f\"Is Space: {user_input.isspace()}\")\n",
    "\n",
    "# 18. Check if the string is in lowercase\n",
    "print(f\"Is Lowercase: {user_input.islower()}\")\n",
    "\n",
    "# 19. Check if the string is in uppercase\n",
    "print(f\"Is Uppercase: {user_input.isupper()}\")\n",
    "\n",
    "# 20. Count the occurrences of a substring\n",
    "substring_count = input(\"Enter a substring to count occurrences: \")\n",
    "print(f\"Occurrences of '{substring_count}': {user_input.count(substring_count)}\")\n",
    "\n",
    "# 21. Remove leading spaces\n",
    "print(f\"Leading Spaces Removed: {user_input.lstrip()}\")\n",
    "\n",
    "# 22. Remove trailing spaces\n",
    "print(f\"Trailing Spaces Removed: {user_input.rstrip()}\")\n"
   ]
  },
  {
   "cell_type": "code",
   "execution_count": 14,
   "metadata": {},
   "outputs": [
    {
     "name": "stdout",
     "output_type": "stream",
     "text": [
      "Hello\n",
      "Hello\n",
      "Hello\n",
      "Hello\n",
      "Hello\n"
     ]
    }
   ],
   "source": [
    "for _ in range(5):\n",
    "    print(\"Hello\")"
   ]
  },
  {
   "cell_type": "code",
   "execution_count": 16,
   "metadata": {},
   "outputs": [
    {
     "name": "stdout",
     "output_type": "stream",
     "text": [
      "5 x 1 = 5\n",
      "5 x 2 = 10\n",
      "5 x 3 = 15\n",
      "5 x 4 = 20\n",
      "5 x 5 = 25\n",
      "5 x 6 = 30\n",
      "5 x 7 = 35\n",
      "5 x 8 = 40\n",
      "5 x 9 = 45\n",
      "5 x 10 = 50\n"
     ]
    }
   ],
   "source": [
    "n = int(input(\"Enter a number: \"))\n",
    "\n",
    "for i in range(1, 11):\n",
    "    print(f\"{n} x {i} = {n * i}\")  "
   ]
  },
  {
   "cell_type": "code",
   "execution_count": 17,
   "metadata": {},
   "outputs": [
    {
     "name": "stdout",
     "output_type": "stream",
     "text": [
      "0 hello\n",
      "1 hello\n",
      "2 hello\n",
      "3 hello\n",
      "4 hello\n",
      "End\n"
     ]
    }
   ],
   "source": [
    "for i in range(5):\n",
    "    print(i,'hello')\n",
    "else:\n",
    "    print(\"End\")"
   ]
  },
  {
   "cell_type": "code",
   "execution_count": null,
   "metadata": {},
   "outputs": [],
   "source": []
  },
  {
   "cell_type": "code",
   "execution_count": 20,
   "metadata": {},
   "outputs": [
    {
     "name": "stdout",
     "output_type": "stream",
     "text": [
      "2\n",
      "4\n"
     ]
    }
   ],
   "source": [
    "n=input()\n",
    "count1=0\n",
    "count2=0\n",
    "for i in n:\n",
    "    if i in \"AEIOUaeiou\":\n",
    "        count1+=1\n",
    "    else:\n",
    "        count2+=1\n",
    "print(count1)\n",
    "print(count2)"
   ]
  },
  {
   "cell_type": "code",
   "execution_count": 6,
   "metadata": {},
   "outputs": [
    {
     "name": "stdout",
     "output_type": "stream",
     "text": [
      "[100, 200]\n",
      "[100, 200, 300, 400, 500.1, 200]\n",
      "200\n",
      "[200, 500.1, 400, 300, 200, 100]\n",
      "6\n",
      "500.1\n",
      "100\n",
      "1\n"
     ]
    }
   ],
   "source": [
    "lis=[1,2,\"Mahesh\",True]\n",
    "l2=[100,200,300,400,500.100,200]\n",
    "print(l2[0:2])\n",
    "print(l2[:])\n",
    "print(l2[-1])\n",
    "print(l2[::-1])\n",
    "print(len(l2))\n",
    "print(max(l2))\n",
    "print(min(l2))\n",
    "print(l2.count(100))"
   ]
  },
  {
   "cell_type": "code",
   "execution_count": 28,
   "metadata": {},
   "outputs": [
    {
     "name": "stdout",
     "output_type": "stream",
     "text": [
      "['chennai-guindy', 'mumbai', 'delhi', 100, 200]\n"
     ]
    }
   ],
   "source": [
    "l=[500,'chennai-guindy','mumbai','delhi',100,200,300]\n",
    "# print(l[0][8:])\n",
    "# print(len(l[1]))\n",
    "# print(len(l[0]))\n",
    "# print(l[0][1:4])\n",
    "# print(len(l[0][8:]))\n",
    "\n",
    "# l.append(\"Mahesh\") #to add data end of the list\n",
    "# l.insert(0,\"tarak\") # to add data into the particular postion\n",
    "# print(\"tarak\" in l)\n",
    "# print(l.index(100)) # if value is not there it will throw valuie error\n",
    "\n",
    "\n",
    "l.remove(300) # remove use for particular value\n",
    "l.pop(0) # if we didnt prove value it will remove last elemebn\n",
    "# del is used to delete enitire data struture from the memory\n",
    "# clear it will delete only data not the data structure \n",
    "\n",
    "# l.sort()\n",
    "# l.reverse()\n",
    "# l.append([2076,2077])\n",
    "\n",
    "# extend and + both are same insted of adding nested list intio the list it will add like single elements\n",
    "\n",
    "print(l)\n",
    "\n",
    "\n",
    "\n",
    "\n",
    "# m=[[1,2],['abc','xyz',[999,888]]]\n",
    "# print([m[1][2][0]])\n",
    "\n",
    "\n",
    "\n",
    "\n"
   ]
  },
  {
   "cell_type": "code",
   "execution_count": 32,
   "metadata": {},
   "outputs": [
    {
     "name": "stdout",
     "output_type": "stream",
     "text": [
      "[1, 2, 3, 4, 5, 10, 9, 8, 7, 6]\n"
     ]
    }
   ],
   "source": [
    "l=[1,2,3,4,5,6,7,8,9,10]\n",
    "ans=[]\n",
    "mid=len(l)//2\n",
    "t=l[0:mid]\n",
    "t2=l[mid:][::-1]\n",
    "print(t+t2)\n"
   ]
  },
  {
   "cell_type": "code",
   "execution_count": 34,
   "metadata": {},
   "outputs": [
    {
     "name": "stdout",
     "output_type": "stream",
     "text": [
      "ece\n",
      "eee\n",
      "edc\n"
     ]
    }
   ],
   "source": [
    "# a=int(input())\n",
    "# b=int(input())\n",
    "# ans=[]\n",
    "# for i in range(a,b+1):\n",
    "#     for j in range(2,i):\n",
    "#         if(i%j==0):\n",
    "#             break\n",
    "#     else:\n",
    "#         ans.append(i)\n",
    "# print(ans)\n",
    "\n",
    "\n",
    "l=[\"mahi\",\"tarak\",\"cse\",\"ece\",\"eee\",\"mec\",\"mani\",\"edc\"]\n",
    "for i in l:\n",
    "    if i[0]=='e':\n",
    "        print(i)\n",
    "\n",
    "\n"
   ]
  },
  {
   "cell_type": "code",
   "execution_count": 37,
   "metadata": {},
   "outputs": [],
   "source": [
    "# t=(1,2,3)\n",
    "# l=list(t)\n",
    "# t2=tuple(l)\n",
    "\n",
    "# t=(1,2,3,[1,4,3,2])\n",
    "# t[-1][0]=100\n",
    "# print(t)\n",
    "\n",
    "# l=[1,2,3,(1,2,3)]\n",
    "# l[-1][0]=100\n",
    "# print(l)\n",
    "\n"
   ]
  },
  {
   "cell_type": "code",
   "execution_count": 40,
   "metadata": {},
   "outputs": [
    {
     "name": "stdout",
     "output_type": "stream",
     "text": [
      "[10.0, 80.0, 270.0, 640.0, 1250.0]\n",
      "a is invested1000 and he got total1010.0\n",
      "b is invested2000 and he got total2080.0\n",
      "c is invested3000 and he got total3270.0\n",
      "d is invested4000 and he got total4640.0\n",
      "e is invested5000 and he got total6250.0\n"
     ]
    }
   ],
   "source": [
    "n=['a','b','c','d','e']\n",
    "p=[1000,2000,3000,4000,5000]\n",
    "r=[1,2,3,4,5]\n",
    "t=[1,2,3,4,5]\n",
    "ans=[]\n",
    "for i in range(0,len(n)):\n",
    "    si=(p[i]*t[i]*r[i])/100\n",
    "    ans.append(si)\n",
    "print(ans)\n",
    "\n",
    "for i in range(0,len(n)):\n",
    "    print(f'{n[i]} is invested{p[i]} and he got total{ans[i]+p[i]}' )\n",
    "\n",
    "\n",
    "\n",
    "\n"
   ]
  },
  {
   "cell_type": "code",
   "execution_count": null,
   "metadata": {},
   "outputs": [
    {
     "name": "stdout",
     "output_type": "stream",
     "text": [
      "[3, 4, [999, 888]]\n",
      "[3, 4, [999, 888, 100]]\n"
     ]
    }
   ],
   "source": [
    "import copy \n",
    "# a=[1,2,3,4]\n",
    "# b=[]\n",
    "# for i in a:\n",
    "#     b.append(i)\n",
    "# print(b)\n",
    "# c=a.copy()\n",
    "# print(c)\n",
    "# print(id(a))\n",
    "# print(id(b))\n",
    "# print(id(c))\n",
    "\n",
    "# i=[3,4,[999,888]] # copy method is working in nested list thats y we need import copy method  deep copy\n",
    "# j=i.copy()\n",
    "# j[2].append(100)\n",
    "# print(j)\n",
    "# print(i)\n",
    "\n",
    "i=[3,4,[999,888]] # copy method is working in nested list thats y we need import copy method  deep copy is the bset way original list wil be not affected\n",
    "j=copy.deepcopy(i)\n",
    "j[2].append(100)\n",
    "k=i.copy()\n",
    "\n",
    "print(i)\n",
    "print(j)\n",
    "\n",
    "#shallow copy vs deep\n",
    "\n",
    "\n",
    "\n",
    "\n",
    "\n",
    "\n"
   ]
  },
  {
   "cell_type": "code",
   "execution_count": 10,
   "metadata": {},
   "outputs": [
    {
     "name": "stdout",
     "output_type": "stream",
     "text": [
      "{1: 10, 2: 20, 3: 30, 4: 40}\n"
     ]
    }
   ],
   "source": [
    "# d={'name':'mahesh','age':25,'place':'chennai','salary':10000} # keys cant be duplicate and values can be duplicate\n",
    "# d['study']='cse'\n",
    "# print(d)\n",
    "# d1={'name':'mahesh','age':25,'place':'chennai','salary':10000,'name':'tarak'} # if we give same key it will take the last value\n",
    "# print(d1)\n",
    "# print(d['name'])\n",
    "# print(d.get('name'))\n",
    "\n",
    "# d={}\n",
    "# n=int(input(\"Enter the items:\"))\n",
    "# for i in range(n):\n",
    "#     key=input(\"Enter the key:\")\n",
    "#     value=input(\"Enter the value:\")\n",
    "#     d[key]=value\n",
    "# print(d)\n",
    "\n",
    "l1=[1,2,3,4]\n",
    "l2=[10,20,30,40]\n",
    "d={}\n",
    "if(len(l1)==len(l2)):\n",
    "    for i in range(len(l1)):\n",
    "        d[l1[i]]=l2[i]\n",
    "print(d)\n"
   ]
  },
  {
   "cell_type": "code",
   "execution_count": 34,
   "metadata": {},
   "outputs": [
    {
     "name": "stdout",
     "output_type": "stream",
     "text": [
      "set()\n",
      "Technology is evolving rapidly, transforming industries and daily life. Innovations in artificial intelligence, data science, and automation are revolutionizing how businesses operate. With growing digital advancements, cybersecurity is crucial to protect sensitive information. Continuous learning and adaptability are essential to staying competitive in this ever-changing technological landscape.\n"
     ]
    }
   ],
   "source": [
    "# l=[\"name\",\"age\",\"address\",\"phone\",\"email\",\"branch\",\"cgpa\",\"year\",\"skills\",\"projects\"]\n",
    "# d={}\n",
    "# for i in range(len(l)):\n",
    "#     d[l[i]]=len(l[i])\n",
    "# print(d)\n",
    "\n",
    "\n",
    "s=\"Technology is evolving rapidly, transforming industries and daily life. Innovations in artificial intelligence, data science, and automation are revolutionizing how businesses operate. With growing digital advancements, cybersecurity is crucial to protect sensitive information. Continuous learning and adaptability are essential to staying competitive in this ever-changing technological landscape.\"\n",
    "ans=s.split()\n",
    "# d={}\n",
    "# for i in ans:\n",
    "#     if i not in d:\n",
    "#         d[i]=1\n",
    "#     else:\n",
    "#         d[i]+=1\n",
    "# print(d)\n",
    "ans=\"\"\n",
    "d=set(ans)\n",
    "print(d)\n",
    "for i in s:\n",
    "    ans=ans+''.join(i)\n",
    "print(ans)"
   ]
  },
  {
   "cell_type": "code",
   "execution_count": 21,
   "metadata": {},
   "outputs": [
    {
     "name": "stdout",
     "output_type": "stream",
     "text": [
      "25\n",
      "5\n",
      "a\n",
      "b\n",
      "c\n",
      "d\n",
      "{'b': 15, 'c': 25}\n"
     ]
    }
   ],
   "source": [
    "d={'a':5,'b':15,'c':25,'d':8}\n",
    "ma=max(d.values())\n",
    "mi=min(d.values())\n",
    "print(ma)\n",
    "print(mi)\n",
    "ans={}\n",
    "for i in d:\n",
    "    print(i)\n",
    "    if d[i]>10:\n",
    "        ans[i]=d[i]\n",
    "\n",
    "print(ans)"
   ]
  },
  {
   "cell_type": "code",
   "execution_count": 23,
   "metadata": {},
   "outputs": [
    {
     "name": "stdout",
     "output_type": "stream",
     "text": [
      "Original Set: {1, 2, 3, 4, 5}\n",
      "Empty Set: set()\n",
      "Set from List: {10, 20, 30}\n",
      "After add(6): {1, 2, 3, 4, 5, 6}\n",
      "After update([7, 8, 9]): {1, 2, 3, 4, 5, 6, 7, 8, 9}\n",
      "After remove(3): {1, 2, 4, 5, 6, 7, 8, 9}\n",
      "After discard(10): {1, 2, 4, 5, 6, 7, 8, 9}\n",
      "Popped Element: 1\n",
      "After pop(): {2, 4, 5, 6, 7, 8, 9}\n",
      "After clear(): set()\n"
     ]
    }
   ],
   "source": [
    "# Creating a set\n",
    "my_set = {1, 2, 3, 4, 5}\n",
    "print(\"Original Set:\", my_set)\n",
    "\n",
    "# Creating an empty set (Must use set(), not {})\n",
    "empty_set = set()\n",
    "print(\"Empty Set:\", empty_set)\n",
    "\n",
    "# Creating a set from a list\n",
    "list_to_set = set([10, 20, 30, 10, 20])\n",
    "print(\"Set from List:\", list_to_set)  # Duplicates removed\n",
    "\n",
    "# Adding a single element\n",
    "my_set.add(6)\n",
    "print(\"After add(6):\", my_set)\n",
    "\n",
    "# Adding multiple elements\n",
    "my_set.update([7, 8, 9])\n",
    "print(\"After update([7, 8, 9]):\", my_set)\n",
    "\n",
    "# Removing an element (removes 3)\n",
    "my_set.remove(3)\n",
    "print(\"After remove(3):\", my_set)\n",
    "\n",
    "# Discarding an element (removes 10, but no error if not found)\n",
    "my_set.discard(10)\n",
    "print(\"After discard(10):\", my_set)\n",
    "\n",
    "# Using pop() (removes and returns a random element)\n",
    "popped_element = my_set.pop()\n",
    "print(\"Popped Element:\", popped_element)\n",
    "print(\"After pop():\", my_set)\n",
    "\n",
    "# Clearing all elements\n",
    "my_set.clear()\n",
    "print(\"After clear():\", my_set)\n",
    "\n"
   ]
  },
  {
   "cell_type": "code",
   "execution_count": 27,
   "metadata": {},
   "outputs": [
    {
     "name": "stdout",
     "output_type": "stream",
     "text": [
      "Union (A | B): {1, 2, 3, 4, 5, 6, 7, 8}\n",
      "Intersection (A & B): {4, 5}\n",
      "Difference (A - B): {1, 2, 3}\n",
      "Difference (B-A): {8, 6, 7}\n",
      "Symmetric Difference (A ^ B): {1, 2, 3, 6, 7, 8}\n"
     ]
    }
   ],
   "source": [
    "# Creating new sets\n",
    "A = {1, 2, 3, 4, 5}\n",
    "B = {4, 5, 6, 7, 8}\n",
    "\n",
    "# Union (combines both sets)\n",
    "union_set = A | B\n",
    "print(\"Union (A | B):\", union_set)\n",
    "\n",
    "# Intersection (common elements)\n",
    "intersection_set = A & B\n",
    "print(\"Intersection (A & B):\", intersection_set)\n",
    "\n",
    "# Difference (elements in A but not in B)\n",
    "difference_set = A - B\n",
    "difference_set1= B-A\n",
    "\n",
    "print(\"Difference (A - B):\", difference_set)\n",
    "print(\"Difference (B-A):\", difference_set1)\n",
    "\n",
    "# Symmetric Difference (elements in A or B but not both)\n",
    "symmetric_difference_set = A ^ B\n",
    "print(\"Symmetric Difference (A ^ B):\", symmetric_difference_set)\n"
   ]
  },
  {
   "cell_type": "code",
   "execution_count": null,
   "metadata": {},
   "outputs": [],
   "source": [
    "X = {1, 2}\n",
    "Y = {1, 2, 3, 4, 5}\n",
    "\n",
    "# Checking if X is a subset of Y\n",
    "print(\"X is subset of Y:\", X.issubset(Y))  # True\n",
    "\n",
    "# Checking if Y is a superset of X\n",
    "print(\"Y is superset of X:\", Y.issuperset(X))  # True\n",
    "\n",
    "# Checking if sets are disjoint (no common elements)\n",
    "Z = {10, 20, 30}\n",
    "print(\"Y and Z are disjoint:\", Y.isdisjoint(Z))  # True\n"
   ]
  },
  {
   "cell_type": "code",
   "execution_count": 38,
   "metadata": {},
   "outputs": [
    {
     "name": "stdout",
     "output_type": "stream",
     "text": [
      "Tchnlgy s vlvng rpdly, trnsfrmng ndstrs nd dly lf. nnvtns n rtfcl ntllgnc, dt scnc, nd tmtn r rvltnzng hw bsnsss prt. Wth grwng dgtl dvncmnts, cybrscrty s crcl t prtct snstv nfrmtn. Cntns lrnng nd dptblty r ssntl t styng cmpttv n ths vr-chngng tchnlgcl lndscp.\n"
     ]
    }
   ],
   "source": [
    "s=\"Technology is evolving rapidly, transforming industries and daily life. Innovations in artificial intelligence, data science, and automation are revolutionizing how businesses operate. With growing digital advancements, cybersecurity is crucial to protect sensitive information. Continuous learning and adaptability are essential to staying competitive in this ever-changing technological landscape.\"\n",
    "\n",
    "ans=\"\"\n",
    "for i in s:\n",
    "    if i not in \"AEIOUaeiou\":\n",
    "        ans=ans+i\n",
    "print(ans)\n",
    "\n"
   ]
  }
 ],
 "metadata": {
  "kernelspec": {
   "display_name": "Python 3",
   "language": "python",
   "name": "python3"
  },
  "language_info": {
   "codemirror_mode": {
    "name": "ipython",
    "version": 3
   },
   "file_extension": ".py",
   "mimetype": "text/x-python",
   "name": "python",
   "nbconvert_exporter": "python",
   "pygments_lexer": "ipython3",
   "version": "3.12.3"
  }
 },
 "nbformat": 4,
 "nbformat_minor": 2
}
