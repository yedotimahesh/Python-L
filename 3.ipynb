{
 "cells": [
  {
   "cell_type": "code",
   "execution_count": null,
   "metadata": {},
   "outputs": [
    {
     "data": {
      "text/plain": [
       "30"
      ]
     },
     "execution_count": 16,
     "metadata": {},
     "output_type": "execute_result"
    }
   ],
   "source": [
    "n=0\n",
    "while(n<5):\n",
    "    print(\"Hello World\")\n",
    "    n+=1\n",
    "else:\n",
    "    print(\"Loop ended\")\n",
    "\n",
    "\n",
    "for i in \"Python\":\n",
    "    if i=='h':\n",
    "        break\n",
    "    print(i)\n",
    "\n",
    "for i in \"python\":\n",
    "    if i=='h':\n",
    "        print(i)\n",
    "    break\n",
    "n=int(input())\n",
    "for i in range(1,n+1):\n",
    "    if n>25:\n",
    "        break\n",
    "    print(i)\n",
    "\n",
    "for i in range(5):\n",
    "    if i==2:\n",
    "        break\n",
    "    for j in range(5):\n",
    "        if j==2:\n",
    "            break\n",
    "    print(i,j)\n",
    "        \n",
    "print(0%3)\n",
    "\n",
    "a,b=0,1\n",
    "print(a)\n",
    "print(b)\n",
    "for i in range(10):\n",
    "    c=a+b\n",
    "    print(c)\n",
    "    a=b\n",
    "    b=c\n",
    "\n",
    "a=0\n",
    "b=1\n",
    "print(a)\n",
    "print(b)\n",
    "n=0\n",
    "while(True):\n",
    "    c=a+b\n",
    "    print(c)\n",
    "    a=b\n",
    "    b=c\n",
    "    n+=1\n",
    "    if n==10:\n",
    "        break\n",
    "\n",
    "l=[1,2,3,4,5,6,7,8,9,10]\n",
    "\n",
    "\n",
    "\n",
    "\n",
    "    \n"
   ]
  },
  {
   "cell_type": "markdown",
   "metadata": {},
   "source": [
    "# FUNCTIONS\n"
   ]
  },
  {
   "cell_type": "code",
   "execution_count": null,
   "metadata": {},
   "outputs": [],
   "source": [
    "# def mahi(a=2,b=3):\n",
    "#     return a+b\n",
    "# mahi(10,20)\n",
    "\n",
    "\n",
    "# with parameter and without return type\n",
    "\n",
    "def greet(name):  \n",
    "    print(f\"Hello, {name}!\")  \n",
    "\n",
    "greet(\"Mahesh\")  # Output: Hello, Mahesh!\n",
    "\n",
    "# without parameter and without return type\n",
    "\n",
    "def say_hello():  \n",
    "    print(\"Hello, World!\")  \n",
    "\n",
    "say_hello()  # Output: Hello, World!\n",
    "\n",
    "#with parameter and with return type\n",
    "\n",
    "def square(num):  \n",
    "    return num * num  \n",
    "\n",
    "result = square(5)  \n",
    "print(result)  # Output: 25\n",
    "\n",
    "# without paramter and with return type\n",
    "\n",
    "def get_pi():  \n",
    "    return 3.14159  \n",
    "\n",
    "value = get_pi()  \n",
    "print(value)  # Output: 3.14159\n",
    "\n",
    "# FROM FILE_NAME(3) IMPORT function_name\n",
    "\n",
    "\n",
    "\n",
    "# positional arguments\n",
    "def add(a, b):  \n",
    "    return a + b\n",
    "add(2,3)\n",
    "\n",
    "\n",
    "\n"
   ]
  },
  {
   "cell_type": "code",
   "execution_count": null,
   "metadata": {},
   "outputs": [
    {
     "name": "stdout",
     "output_type": "stream",
     "text": [
      "mmm\n",
      "{'a': 1, 'b': 2, 'c': 3, 'd': 4, 'e': 5, 'f': 6, 'g': 7, 'h': 8, 'i': 9, 'j': 10}\n",
      "mmm\n",
      "{'a': 1, 'b': 2, 'c': 3, 'd': 4, 'e': 5, 'f': 6, 'g': 7, 'h': 8, 'i': 9, 'j': 10, 'k': 11, 'l': 12, 'm': 13, 'n': 14, 'o': 15, 'p': 16, 'q': 17, 'r': 18, 's': 19, 't': 20}\n"
     ]
    }
   ],
   "source": [
    "def Mahesh(arr,target):\n",
    "    count1=0\n",
    "\n",
    "    for i in arr:\n",
    "        if target in arr:\n",
    "            count1=1\n",
    "    return count1\n",
    "    \n",
    "    \n",
    "\n",
    "arr=list(map(int,input().split()))\n",
    "arr=[1,2,3,1,2,3,3,3,3]\n",
    "target=int(input())  \n",
    "out=Mahesh(arr,target)\n",
    "print(out)\n",
    "\n",
    "\n",
    "\n",
    "positional arguments\n",
    "\n",
    "\n",
    "def add(a, b):  \n",
    "    return a+b\n",
    "add(2,3)\n",
    "\n",
    "# Default arguments\n",
    "\n",
    "def add1(name=\"Mahesh\"):\n",
    "    print(name)\n",
    "add1(\"Tarak\")\n",
    "\n",
    "\n",
    "# keyword arguments\n",
    "\n",
    "def add2(name,age):\n",
    "    print(f'My name is {age} and my name is {name}')\n",
    "add2(\"Mahesh\",23)\n",
    "add2(name=\"Mahesh\",age=23) # here we are providing keyword argumets \n",
    "\n",
    "\n",
    "# variable length arguments\n",
    "\n",
    "def add3(name,*args):\n",
    "    print(name) # here name is a positional argument   \n",
    "    print(args)\n",
    "add3(1,2,3,4,5) # here we are providing variable length arguments\n",
    "add3(1,2,3,4,5,6,7,8,9) # here we are providing variable length arguments\n",
    "add3(\"Tarak\",1,2,3,4,5,6,7,8,9) # here we are providing variable length arguments\n",
    "\n",
    "# variable length keyword arguments\n",
    "\n",
    "def add4(name,**kwargs):\n",
    "    print(name) # here name is a positional argument\n",
    "    print(kwargs) # here kwargs is a keyword argument\n",
    "add4('mmm',a=1,b=2,c=3,d=4,e=5,f=6,g=7,h=8,i=9,j=10) # here we are providing variable length keyword arguments\n",
    "add4('mmm',a=1,b=2,c=3,d=4,e=5,f=6,g=7,h=8,i=9,j=10,k=11,l=12,m=13,n=14,o=15,p=16,q=17,r=18,s=19,t=20) # here we are providing variable length keyword arguments\n",
    "\n",
    "\n"
   ]
  },
  {
   "cell_type": "code",
   "execution_count": null,
   "metadata": {},
   "outputs": [
    {
     "name": "stdout",
     "output_type": "stream",
     "text": [
      "Help on function add in module __main__:\n",
      "\n",
      "add(a, b)\n",
      "    This function takes two numbers and returns their sum.\n",
      "\n"
     ]
    },
    {
     "data": {
      "text/plain": [
       "'\\n    This function takes two numbers and returns their sum.\\n    '"
      ]
     },
     "execution_count": 39,
     "metadata": {},
     "output_type": "execute_result"
    }
   ],
   "source": [
    "# docstring\n",
    "\n",
    "def add(a,b):\n",
    "    \"\"\"\n",
    "    This function takes two numbers and returns their sum.\n",
    "    \"\"\"\n",
    "    return a+b\n",
    "add(2,3)    \n",
    "help(add) # here we are using help function to get the docstring of the function and function name also we will get here\n",
    "add.__doc__ # here we are using __doc__ to get the docstring of the function only we will get docstring here in quotes"
   ]
  },
  {
   "cell_type": "code",
   "execution_count": 47,
   "metadata": {},
   "outputs": [
    {
     "name": "stdout",
     "output_type": "stream",
     "text": [
      "Integer=2 and String=Mahesh\n"
     ]
    },
    {
     "data": {
      "text/plain": [
       "{'a': int, 'b': str, 'return': str}"
      ]
     },
     "execution_count": 47,
     "metadata": {},
     "output_type": "execute_result"
    }
   ],
   "source": [
    "# Fuunction Annotation\n",
    "\n",
    "def add(a:int,b:str)->str:\n",
    "    return f'Integer={a} and String={b}'\n",
    "a=add(2,\"Mahesh\")# function annotation to get the type of the arguments and return type of the function\n",
    "print(a) # here we are using function annotation to get the type of the arguments and return type of the function\n",
    "add(\"Mahi\",2) # here we are using function annotation to get the type of the arguments and return type of the function\n",
    "add(\"Tarak\",2076)\n",
    "add.__annotations__\n",
    "   \n"
   ]
  },
  {
   "cell_type": "markdown",
   "metadata": {},
   "source": [
    "# scope"
   ]
  },
  {
   "cell_type": "code",
   "execution_count": null,
   "metadata": {},
   "outputs": [
    {
     "name": "stdout",
     "output_type": "stream",
     "text": [
      "20\n",
      "30\n",
      "30\n"
     ]
    }
   ],
   "source": [
    "x = 10  # Global variable\n",
    "\n",
    "def tricky():\n",
    "    x = x + 5  # Trying to modify global x without declaring it\n",
    "    print(x)\n",
    "\n",
    "tricky() \n",
    "    \n",
    "    \n",
    "    \n",
    "x=20\n",
    "def num():\n",
    "    global x\n",
    "    print(x)\n",
    "    x=x+10\n",
    "    print(x)\n",
    "num()\n",
    "print(x)\n",
    "\n"
   ]
  },
  {
   "cell_type": "markdown",
   "metadata": {},
   "source": [
    "# RANDOM"
   ]
  },
  {
   "cell_type": "code",
   "execution_count": 55,
   "metadata": {},
   "outputs": [
    {
     "name": "stdout",
     "output_type": "stream",
     "text": [
      "\n",
      "### 1. randint(a, b) - Random Integer in Range ###\n",
      "10\n",
      "\n",
      "### 2. randrange(start, stop, step) - Random Integer with Step ###\n",
      "1\n",
      "\n",
      "### 3. random() - Random Float Between 0 and 1 ###\n",
      "0.6559876772275925\n",
      "\n",
      "### 4. uniform(a, b) - Random Float in a Range ###\n",
      "9.133463468632002\n",
      "\n",
      "### 5. choice(sequence) - Random Element from a List ###\n",
      "cherry\n",
      "\n",
      "### 6. choices(sequence, k=N) - Random Elements with Repetition ###\n",
      "[1, 1, 3]\n",
      "\n",
      "### 7. sample(sequence, k=N) - Unique Random Elements ###\n",
      "[4, 1, 5]\n",
      "\n",
      "### 8. shuffle(sequence) - Shuffle a List Randomly ###\n",
      "[3, 1, 2, 5, 4]\n",
      "\n",
      "### 9. OTP Generator (4-digit) ###\n",
      "Your OTP: 9657\n",
      "\n",
      "### 10. Simulating a Dice Roll ###\n",
      "You rolled: 4\n"
     ]
    }
   ],
   "source": [
    "import random\n",
    "\n",
    "print(\"\\n### 1. randint(a, b) - Random Integer in Range ###\")\n",
    "print(random.randint(1, 10))  # Random number between 1 and 10\n",
    "\n",
    "print(\"\\n### 2. randrange(start, stop, step) - Random Integer with Step ###\")\n",
    "print(random.randrange(1, 10, 2))  # Random number from {1, 3, 5, 7, 9}\n",
    "\n",
    "print(\"\\n### 3. random() - Random Float Between 0 and 1 ###\")\n",
    "print(random.random())  # Random float between 0.0 and 1.0\n",
    "\n",
    "print(\"\\n### 4. uniform(a, b) - Random Float in a Range ###\")\n",
    "print(random.uniform(5, 10))  # Random float between 5 and 10\n",
    "\n",
    "print(\"\\n### 5. choice(sequence) - Random Element from a List ###\")\n",
    "items = ['apple', 'banana', 'cherry']\n",
    "print(random.choice(items))  # Random fruit from the list\n",
    "\n",
    "print(\"\\n### 6. choices(sequence, k=N) - Random Elements with Repetition ###\")\n",
    "numbers = [1, 2, 3, 4, 5]\n",
    "print(random.choices(numbers, k=3))  # Random selection with repetition\n",
    "\n",
    "print(\"\\n### 7. sample(sequence, k=N) - Unique Random Elements ###\")\n",
    "print(random.sample(numbers, 3))  # Random and unique selection\n",
    "\n",
    "print(\"\\n### 8. shuffle(sequence) - Shuffle a List Randomly ###\")\n",
    "cards = [1, 2, 3, 4, 5]\n",
    "random.shuffle(cards)\n",
    "print(cards)  # Random order\n",
    "\n",
    "print(\"\\n### 9. OTP Generator (4-digit) ###\")\n",
    "otp = \"\".join(str(random.randint(0, 9)) for _ in range(4))\n",
    "print(\"Your OTP:\", otp)\n",
    "\n",
    "print(\"\\n### 10. Simulating a Dice Roll ###\")\n",
    "def roll_dice():\n",
    "    return random.randint(1, 6)\n",
    "\n",
    "print(\"You rolled:\", roll_dice())\n"
   ]
  }
 ],
 "metadata": {
  "kernelspec": {
   "display_name": "Python 3",
   "language": "python",
   "name": "python3"
  },
  "language_info": {
   "codemirror_mode": {
    "name": "ipython",
    "version": 3
   },
   "file_extension": ".py",
   "mimetype": "text/x-python",
   "name": "python",
   "nbconvert_exporter": "python",
   "pygments_lexer": "ipython3",
   "version": "3.12.3"
  }
 },
 "nbformat": 4,
 "nbformat_minor": 2
}
